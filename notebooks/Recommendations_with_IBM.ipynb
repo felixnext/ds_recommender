{
 "cells": [
  {
   "cell_type": "markdown",
   "metadata": {},
   "source": [
    "# Recommendations with IBM\n",
    "\n",
    "In this notebook, you will be putting your recommendation skills to use on real data from the IBM Watson Studio platform. \n",
    "\n",
    "\n",
    "You may either submit your notebook through the workspace here, or you may work from your local machine and submit through the next page.  Either way assure that your code passes the project [RUBRIC](https://review.udacity.com/#!/rubrics/2322/view).  **Please save regularly.**\n",
    "\n",
    "By following the table of contents, you will build out a number of different methods for making recommendations that can be used for different situations. \n",
    "\n",
    "\n",
    "## Table of Contents\n",
    "\n",
    "I. [Exploratory Data Analysis](#Exploratory-Data-Analysis)<br>\n",
    "II. [Rank Based Recommendations](#Rank)<br>\n",
    "III. [User-User Based Collaborative Filtering](#User-User)<br>\n",
    "IV. [Content Based Recommendations (EXTRA - NOT REQUIRED)](#Content-Recs)<br>\n",
    "V. [Matrix Factorization](#Matrix-Fact)<br>\n",
    "VI. [Extras & Concluding](#conclusions)\n",
    "\n",
    "At the end of the notebook, you will find directions for how to submit your work.  Let's get started by importing the necessary libraries and reading in the data."
   ]
  },
  {
   "cell_type": "code",
   "execution_count": 1,
   "metadata": {
    "collapsed": true
   },
   "outputs": [
    {
     "name": "stderr",
     "output_type": "stream",
     "text": [
      "[nltk_data] Downloading package punkt to\n",
      "[nltk_data]     C:\\Users\\Felix\\AppData\\Roaming\\nltk_data...\n",
      "[nltk_data]   Package punkt is already up-to-date!\n",
      "[nltk_data] Downloading package averaged_perceptron_tagger to\n",
      "[nltk_data]     C:\\Users\\Felix\\AppData\\Roaming\\nltk_data...\n",
      "[nltk_data]   Package averaged_perceptron_tagger is already up-to-\n",
      "[nltk_data]       date!\n",
      "[nltk_data] Downloading package stopwords to\n",
      "[nltk_data]     C:\\Users\\Felix\\AppData\\Roaming\\nltk_data...\n",
      "[nltk_data]   Package stopwords is already up-to-date!\n",
      "[nltk_data] Downloading package wordnet to\n",
      "[nltk_data]     C:\\Users\\Felix\\AppData\\Roaming\\nltk_data...\n",
      "[nltk_data]   Package wordnet is already up-to-date!\n",
      "[nltk_data] Downloading package maxent_ne_chunker to\n",
      "[nltk_data]     C:\\Users\\Felix\\AppData\\Roaming\\nltk_data...\n",
      "[nltk_data]   Package maxent_ne_chunker is already up-to-date!\n",
      "[nltk_data] Downloading package words to\n",
      "[nltk_data]     C:\\Users\\Felix\\AppData\\Roaming\\nltk_data...\n",
      "[nltk_data]   Package words is already up-to-date!\n",
      "[nltk_data] Downloading package omw to\n",
      "[nltk_data]     C:\\Users\\Felix\\AppData\\Roaming\\nltk_data...\n",
      "[nltk_data]   Package omw is already up-to-date!\n"
     ]
    },
    {
     "data": {
      "text/html": [
       "<div>\n",
       "<style scoped>\n",
       "    .dataframe tbody tr th:only-of-type {\n",
       "        vertical-align: middle;\n",
       "    }\n",
       "\n",
       "    .dataframe tbody tr th {\n",
       "        vertical-align: top;\n",
       "    }\n",
       "\n",
       "    .dataframe thead th {\n",
       "        text-align: right;\n",
       "    }\n",
       "</style>\n",
       "<table border=\"1\" class=\"dataframe\">\n",
       "  <thead>\n",
       "    <tr style=\"text-align: right;\">\n",
       "      <th></th>\n",
       "      <th>article_id</th>\n",
       "      <th>title</th>\n",
       "      <th>email</th>\n",
       "    </tr>\n",
       "  </thead>\n",
       "  <tbody>\n",
       "    <tr>\n",
       "      <th>0</th>\n",
       "      <td>1430.0</td>\n",
       "      <td>using pixiedust for fast, flexible, and easier...</td>\n",
       "      <td>ef5f11f77ba020cd36e1105a00ab868bbdbf7fe7</td>\n",
       "    </tr>\n",
       "    <tr>\n",
       "      <th>1</th>\n",
       "      <td>1314.0</td>\n",
       "      <td>healthcare python streaming application demo</td>\n",
       "      <td>083cbdfa93c8444beaa4c5f5e0f5f9198e4f9e0b</td>\n",
       "    </tr>\n",
       "    <tr>\n",
       "      <th>2</th>\n",
       "      <td>1429.0</td>\n",
       "      <td>use deep learning for image classification</td>\n",
       "      <td>b96a4f2e92d8572034b1e9b28f9ac673765cd074</td>\n",
       "    </tr>\n",
       "    <tr>\n",
       "      <th>3</th>\n",
       "      <td>1338.0</td>\n",
       "      <td>ml optimization using cognitive assistant</td>\n",
       "      <td>06485706b34a5c9bf2a0ecdac41daf7e7654ceb7</td>\n",
       "    </tr>\n",
       "    <tr>\n",
       "      <th>4</th>\n",
       "      <td>1276.0</td>\n",
       "      <td>deploy your python model as a restful api</td>\n",
       "      <td>f01220c46fc92c6e6b161b1849de11faacd7ccb2</td>\n",
       "    </tr>\n",
       "  </tbody>\n",
       "</table>\n",
       "</div>"
      ],
      "text/plain": [
       "   article_id                                              title  \\\n",
       "0      1430.0  using pixiedust for fast, flexible, and easier...   \n",
       "1      1314.0       healthcare python streaming application demo   \n",
       "2      1429.0         use deep learning for image classification   \n",
       "3      1338.0          ml optimization using cognitive assistant   \n",
       "4      1276.0          deploy your python model as a restful api   \n",
       "\n",
       "                                      email  \n",
       "0  ef5f11f77ba020cd36e1105a00ab868bbdbf7fe7  \n",
       "1  083cbdfa93c8444beaa4c5f5e0f5f9198e4f9e0b  \n",
       "2  b96a4f2e92d8572034b1e9b28f9ac673765cd074  \n",
       "3  06485706b34a5c9bf2a0ecdac41daf7e7654ceb7  \n",
       "4  f01220c46fc92c6e6b161b1849de11faacd7ccb2  "
      ]
     },
     "execution_count": 1,
     "metadata": {},
     "output_type": "execute_result"
    }
   ],
   "source": [
    "import pandas as pd\n",
    "import numpy as np\n",
    "import matplotlib.pyplot as plt\n",
    "import pickle, sys\n",
    "sys.path.insert(1, '..')\n",
    "import project_tests as t\n",
    "%matplotlib inline\n",
    "\n",
    "# load recommender library\n",
    "import ask_watson as ask\n",
    "\n",
    "df = pd.read_csv('../data/user-item-interactions.csv')\n",
    "df_content = pd.read_csv('../data/articles_community.csv')\n",
    "del df['Unnamed: 0']\n",
    "del df_content['Unnamed: 0']\n",
    "\n",
    "# Show df to get an idea of the data\n",
    "df.head()"
   ]
  },
  {
   "cell_type": "code",
   "execution_count": 2,
   "metadata": {
    "collapsed": true
   },
   "outputs": [
    {
     "data": {
      "text/html": [
       "<div>\n",
       "<style scoped>\n",
       "    .dataframe tbody tr th:only-of-type {\n",
       "        vertical-align: middle;\n",
       "    }\n",
       "\n",
       "    .dataframe tbody tr th {\n",
       "        vertical-align: top;\n",
       "    }\n",
       "\n",
       "    .dataframe thead th {\n",
       "        text-align: right;\n",
       "    }\n",
       "</style>\n",
       "<table border=\"1\" class=\"dataframe\">\n",
       "  <thead>\n",
       "    <tr style=\"text-align: right;\">\n",
       "      <th></th>\n",
       "      <th>doc_body</th>\n",
       "      <th>doc_description</th>\n",
       "      <th>doc_full_name</th>\n",
       "      <th>doc_status</th>\n",
       "      <th>article_id</th>\n",
       "    </tr>\n",
       "  </thead>\n",
       "  <tbody>\n",
       "    <tr>\n",
       "      <th>0</th>\n",
       "      <td>Skip navigation Sign in SearchLoading...\\r\\n\\r...</td>\n",
       "      <td>Detect bad readings in real time using Python ...</td>\n",
       "      <td>Detect Malfunctioning IoT Sensors with Streami...</td>\n",
       "      <td>Live</td>\n",
       "      <td>0</td>\n",
       "    </tr>\n",
       "    <tr>\n",
       "      <th>1</th>\n",
       "      <td>No Free Hunch Navigation * kaggle.com\\r\\n\\r\\n ...</td>\n",
       "      <td>See the forest, see the trees. Here lies the c...</td>\n",
       "      <td>Communicating data science: A guide to present...</td>\n",
       "      <td>Live</td>\n",
       "      <td>1</td>\n",
       "    </tr>\n",
       "    <tr>\n",
       "      <th>2</th>\n",
       "      <td>☰ * Login\\r\\n * Sign Up\\r\\n\\r\\n * Learning Pat...</td>\n",
       "      <td>Here’s this week’s news in Data Science and Bi...</td>\n",
       "      <td>This Week in Data Science (April 18, 2017)</td>\n",
       "      <td>Live</td>\n",
       "      <td>2</td>\n",
       "    </tr>\n",
       "    <tr>\n",
       "      <th>3</th>\n",
       "      <td>DATALAYER: HIGH THROUGHPUT, LOW LATENCY AT SCA...</td>\n",
       "      <td>Learn how distributed DBs solve the problem of...</td>\n",
       "      <td>DataLayer Conference: Boost the performance of...</td>\n",
       "      <td>Live</td>\n",
       "      <td>3</td>\n",
       "    </tr>\n",
       "    <tr>\n",
       "      <th>4</th>\n",
       "      <td>Skip navigation Sign in SearchLoading...\\r\\n\\r...</td>\n",
       "      <td>This video demonstrates the power of IBM DataS...</td>\n",
       "      <td>Analyze NY Restaurant data using Spark in DSX</td>\n",
       "      <td>Live</td>\n",
       "      <td>4</td>\n",
       "    </tr>\n",
       "  </tbody>\n",
       "</table>\n",
       "</div>"
      ],
      "text/plain": [
       "                                            doc_body  \\\n",
       "0  Skip navigation Sign in SearchLoading...\\r\\n\\r...   \n",
       "1  No Free Hunch Navigation * kaggle.com\\r\\n\\r\\n ...   \n",
       "2  ☰ * Login\\r\\n * Sign Up\\r\\n\\r\\n * Learning Pat...   \n",
       "3  DATALAYER: HIGH THROUGHPUT, LOW LATENCY AT SCA...   \n",
       "4  Skip navigation Sign in SearchLoading...\\r\\n\\r...   \n",
       "\n",
       "                                     doc_description  \\\n",
       "0  Detect bad readings in real time using Python ...   \n",
       "1  See the forest, see the trees. Here lies the c...   \n",
       "2  Here’s this week’s news in Data Science and Bi...   \n",
       "3  Learn how distributed DBs solve the problem of...   \n",
       "4  This video demonstrates the power of IBM DataS...   \n",
       "\n",
       "                                       doc_full_name doc_status  article_id  \n",
       "0  Detect Malfunctioning IoT Sensors with Streami...       Live           0  \n",
       "1  Communicating data science: A guide to present...       Live           1  \n",
       "2         This Week in Data Science (April 18, 2017)       Live           2  \n",
       "3  DataLayer Conference: Boost the performance of...       Live           3  \n",
       "4      Analyze NY Restaurant data using Spark in DSX       Live           4  "
      ]
     },
     "execution_count": 2,
     "metadata": {},
     "output_type": "execute_result"
    }
   ],
   "source": [
    "# Show df_content to get an idea of the data\n",
    "df_content.head()"
   ]
  },
  {
   "cell_type": "markdown",
   "metadata": {},
   "source": [
    "### <a class=\"anchor\" id=\"Exploratory-Data-Analysis\">Part I : Exploratory Data Analysis</a>\n",
    "\n",
    "Use the dictionary and cells below to provide some insight into the descriptive statistics of the data.\n",
    "\n",
    "`1.` What is the distribution of how many articles a user interacts with in the dataset?  Provide a visual and descriptive statistics to assist with giving a look at the number of times each user interacts with an article.  "
   ]
  },
  {
   "cell_type": "code",
   "execution_count": 3,
   "metadata": {
    "collapsed": true
   },
   "outputs": [
    {
     "name": "stdout",
     "output_type": "stream",
     "text": [
      "Unique Users: 5148\n",
      "Unique Article in Interactions: 714\n",
      "Unique Articles: 1051\n",
      "User Mean Interactions: 8.930847\n"
     ]
    },
    {
     "data": {
      "image/png": "[encoded data removed]",
      "text/plain": [
       "<Figure size 1440x360 with 1 Axes>"
      ]
     },
     "metadata": {
      "needs_background": "light"
     },
     "output_type": "display_data"
    }
   ],
   "source": [
    "print(\"Unique Users: {}\".format(df['email'].dropna().unique().shape[0]))\n",
    "print(\"Unique Article in Interactions: {}\".format(df.dropna(subset=['email'])['article_id'].unique().shape[0]))\n",
    "print(\"Unique Articles: {}\".format(df_content['article_id'].unique().shape[0]))\n",
    "\n",
    "interactions = df.dropna(subset=['email']).groupby('email').count()\n",
    "print(\"User Mean Interactions: {:.6f}\".format(interactions['article_id'].mean()))\n",
    "interactions.groupby('article_id').count().plot.bar(figsize=(20, 5));"
   ]
  },
  {
   "cell_type": "markdown",
   "metadata": {},
   "source": [
    "As with most only interactions, the distribution follows the [power law](https://en.wikipedia.org/wiki/Power_law) - in particular [Zipf's Law](https://en.wikipedia.org/wiki/Zipf%27s_law)."
   ]
  },
  {
   "cell_type": "code",
   "execution_count": 4,
   "metadata": {
    "collapsed": true
   },
   "outputs": [
    {
     "name": "stdout",
     "output_type": "stream",
     "text": [
      "Of 5148 users 2833 iteract with 3 articles or less (55.03%) - Total Mean interactions per article: 6.5402\n"
     ]
    }
   ],
   "source": [
    "items = df.groupby(['email', 'article_id'])['title'].count().reset_index().groupby('email').count()['article_id']\n",
    "articles = 3\n",
    "users = items.count()\n",
    "below = items[items <= articles].count()\n",
    "\n",
    "print(\"Of {} users {} iteract with {} articles or less ({:.2%}) - Total Mean interactions per article: {:.4f}\".format(users, below, articles, below/users, items.mean()))"
   ]
  },
  {
   "cell_type": "code",
   "execution_count": 5,
   "metadata": {
    "collapsed": true
   },
   "outputs": [
    {
     "name": "stdout",
     "output_type": "stream",
     "text": [
      "Median: 3.0\n",
      "Max interactions of one user with the system: 364\n"
     ]
    }
   ],
   "source": [
    "# Fill in the median and maximum number of user_article interactios below\n",
    "\n",
    "median_val = df.groupby(['email', 'article_id'])['title'].count().reset_index().groupby('email').count()['article_id'].median() # 50% of individuals interact with ____ number of articles or fewer.\n",
    "max_views_by_user = df.dropna(subset=['email']).groupby(['email'])['article_id'].count().max() # The maximum number of user-article interactions by any 1 user is ______.\n",
    "print(\"Median: {}\".format(median_val))\n",
    "print(\"Max interactions of one user with the system: {}\".format(max_views_by_user))"
   ]
  },
  {
   "cell_type": "markdown",
   "metadata": {},
   "source": [
    "`2.` Explore and remove duplicate articles from the **df_content** dataframe.  "
   ]
  },
  {
   "cell_type": "code",
   "execution_count": 6,
   "metadata": {},
   "outputs": [
    {
     "data": {
      "text/html": [
       "<div>\n",
       "<style scoped>\n",
       "    .dataframe tbody tr th:only-of-type {\n",
       "        vertical-align: middle;\n",
       "    }\n",
       "\n",
       "    .dataframe tbody tr th {\n",
       "        vertical-align: top;\n",
       "    }\n",
       "\n",
       "    .dataframe thead th {\n",
       "        text-align: right;\n",
       "    }\n",
       "</style>\n",
       "<table border=\"1\" class=\"dataframe\">\n",
       "  <thead>\n",
       "    <tr style=\"text-align: right;\">\n",
       "      <th></th>\n",
       "      <th>article_id</th>\n",
       "      <th>title</th>\n",
       "      <th>email</th>\n",
       "    </tr>\n",
       "  </thead>\n",
       "  <tbody>\n",
       "    <tr>\n",
       "      <th>41</th>\n",
       "      <td>1429.0</td>\n",
       "      <td>use deep learning for image classification</td>\n",
       "      <td>b96a4f2e92d8572034b1e9b28f9ac673765cd074</td>\n",
       "    </tr>\n",
       "    <tr>\n",
       "      <th>75</th>\n",
       "      <td>1429.0</td>\n",
       "      <td>use deep learning for image classification</td>\n",
       "      <td>3c2de1b0a92728aa53064a22ff7bd7319878ed95</td>\n",
       "    </tr>\n",
       "    <tr>\n",
       "      <th>95</th>\n",
       "      <td>1162.0</td>\n",
       "      <td>analyze energy consumption in buildings</td>\n",
       "      <td>d385b6c44711688ce2a33eb596495bf9243e1750</td>\n",
       "    </tr>\n",
       "    <tr>\n",
       "      <th>97</th>\n",
       "      <td>409.0</td>\n",
       "      <td>using github for project control in dsx</td>\n",
       "      <td>2b6c0f514c2f2b04ad3c4583407dccd0810469ee</td>\n",
       "    </tr>\n",
       "    <tr>\n",
       "      <th>99</th>\n",
       "      <td>1393.0</td>\n",
       "      <td>the nurse assignment problem</td>\n",
       "      <td>8dc8d7ec2356b1b106eb3d723f3c234e03ab3f1e</td>\n",
       "    </tr>\n",
       "  </tbody>\n",
       "</table>\n",
       "</div>"
      ],
      "text/plain": [
       "    article_id                                       title  \\\n",
       "41      1429.0  use deep learning for image classification   \n",
       "75      1429.0  use deep learning for image classification   \n",
       "95      1162.0     analyze energy consumption in buildings   \n",
       "97       409.0     using github for project control in dsx   \n",
       "99      1393.0                the nurse assignment problem   \n",
       "\n",
       "                                       email  \n",
       "41  b96a4f2e92d8572034b1e9b28f9ac673765cd074  \n",
       "75  3c2de1b0a92728aa53064a22ff7bd7319878ed95  \n",
       "95  d385b6c44711688ce2a33eb596495bf9243e1750  \n",
       "97  2b6c0f514c2f2b04ad3c4583407dccd0810469ee  \n",
       "99  8dc8d7ec2356b1b106eb3d723f3c234e03ab3f1e  "
      ]
     },
     "execution_count": 6,
     "metadata": {},
     "output_type": "execute_result"
    }
   ],
   "source": [
    "# duplicate user interactions (however, these should just indicate multiple interactions from a single user)\n",
    "df[df.duplicated()].head()"
   ]
  },
  {
   "cell_type": "code",
   "execution_count": 7,
   "metadata": {},
   "outputs": [
    {
     "data": {
      "text/html": [
       "<div>\n",
       "<style scoped>\n",
       "    .dataframe tbody tr th:only-of-type {\n",
       "        vertical-align: middle;\n",
       "    }\n",
       "\n",
       "    .dataframe tbody tr th {\n",
       "        vertical-align: top;\n",
       "    }\n",
       "\n",
       "    .dataframe thead th {\n",
       "        text-align: right;\n",
       "    }\n",
       "</style>\n",
       "<table border=\"1\" class=\"dataframe\">\n",
       "  <thead>\n",
       "    <tr style=\"text-align: right;\">\n",
       "      <th></th>\n",
       "      <th>doc_body</th>\n",
       "      <th>doc_description</th>\n",
       "      <th>doc_full_name</th>\n",
       "      <th>doc_status</th>\n",
       "      <th>article_id</th>\n",
       "    </tr>\n",
       "  </thead>\n",
       "  <tbody>\n",
       "    <tr>\n",
       "      <th>365</th>\n",
       "      <td>Follow Sign in / Sign up Home About Insight Da...</td>\n",
       "      <td>During the seven-week Insight Data Engineering...</td>\n",
       "      <td>Graph-based machine learning</td>\n",
       "      <td>Live</td>\n",
       "      <td>50</td>\n",
       "    </tr>\n",
       "    <tr>\n",
       "      <th>692</th>\n",
       "      <td>Homepage Follow Sign in / Sign up Homepage * H...</td>\n",
       "      <td>One of the earliest documented catalogs was co...</td>\n",
       "      <td>How smart catalogs can turn the big data flood...</td>\n",
       "      <td>Live</td>\n",
       "      <td>221</td>\n",
       "    </tr>\n",
       "    <tr>\n",
       "      <th>761</th>\n",
       "      <td>Homepage Follow Sign in Get started Homepage *...</td>\n",
       "      <td>Today’s world of data science leverages data f...</td>\n",
       "      <td>Using Apache Spark as a parallel processing fr...</td>\n",
       "      <td>Live</td>\n",
       "      <td>398</td>\n",
       "    </tr>\n",
       "    <tr>\n",
       "      <th>970</th>\n",
       "      <td>This video shows you how to construct queries ...</td>\n",
       "      <td>This video shows you how to construct queries ...</td>\n",
       "      <td>Use the Primary Index</td>\n",
       "      <td>Live</td>\n",
       "      <td>577</td>\n",
       "    </tr>\n",
       "    <tr>\n",
       "      <th>971</th>\n",
       "      <td>Homepage Follow Sign in Get started * Home\\r\\n...</td>\n",
       "      <td>If you are like most data scientists, you are ...</td>\n",
       "      <td>Self-service data preparation with IBM Data Re...</td>\n",
       "      <td>Live</td>\n",
       "      <td>232</td>\n",
       "    </tr>\n",
       "  </tbody>\n",
       "</table>\n",
       "</div>"
      ],
      "text/plain": [
       "                                              doc_body  \\\n",
       "365  Follow Sign in / Sign up Home About Insight Da...   \n",
       "692  Homepage Follow Sign in / Sign up Homepage * H...   \n",
       "761  Homepage Follow Sign in Get started Homepage *...   \n",
       "970  This video shows you how to construct queries ...   \n",
       "971  Homepage Follow Sign in Get started * Home\\r\\n...   \n",
       "\n",
       "                                       doc_description  \\\n",
       "365  During the seven-week Insight Data Engineering...   \n",
       "692  One of the earliest documented catalogs was co...   \n",
       "761  Today’s world of data science leverages data f...   \n",
       "970  This video shows you how to construct queries ...   \n",
       "971  If you are like most data scientists, you are ...   \n",
       "\n",
       "                                         doc_full_name doc_status  article_id  \n",
       "365                       Graph-based machine learning       Live          50  \n",
       "692  How smart catalogs can turn the big data flood...       Live         221  \n",
       "761  Using Apache Spark as a parallel processing fr...       Live         398  \n",
       "970                              Use the Primary Index       Live         577  \n",
       "971  Self-service data preparation with IBM Data Re...       Live         232  "
      ]
     },
     "execution_count": 7,
     "metadata": {},
     "output_type": "execute_result"
    }
   ],
   "source": [
    "# duplicate content\n",
    "dup = df_content['article_id'].duplicated()\n",
    "df_content[dup]"
   ]
  },
  {
   "cell_type": "code",
   "execution_count": 8,
   "metadata": {},
   "outputs": [
    {
     "data": {
      "text/html": [
       "<div>\n",
       "<style scoped>\n",
       "    .dataframe tbody tr th:only-of-type {\n",
       "        vertical-align: middle;\n",
       "    }\n",
       "\n",
       "    .dataframe tbody tr th {\n",
       "        vertical-align: top;\n",
       "    }\n",
       "\n",
       "    .dataframe thead th {\n",
       "        text-align: right;\n",
       "    }\n",
       "</style>\n",
       "<table border=\"1\" class=\"dataframe\">\n",
       "  <thead>\n",
       "    <tr style=\"text-align: right;\">\n",
       "      <th></th>\n",
       "      <th>doc_body</th>\n",
       "      <th>doc_description</th>\n",
       "      <th>doc_full_name</th>\n",
       "      <th>doc_status</th>\n",
       "      <th>article_id</th>\n",
       "    </tr>\n",
       "  </thead>\n",
       "  <tbody>\n",
       "    <tr>\n",
       "      <th>50</th>\n",
       "      <td>Follow Sign in / Sign up Home About Insight Da...</td>\n",
       "      <td>Community Detection at Scale</td>\n",
       "      <td>Graph-based machine learning</td>\n",
       "      <td>Live</td>\n",
       "      <td>50</td>\n",
       "    </tr>\n",
       "    <tr>\n",
       "      <th>365</th>\n",
       "      <td>Follow Sign in / Sign up Home About Insight Da...</td>\n",
       "      <td>During the seven-week Insight Data Engineering...</td>\n",
       "      <td>Graph-based machine learning</td>\n",
       "      <td>Live</td>\n",
       "      <td>50</td>\n",
       "    </tr>\n",
       "    <tr>\n",
       "      <th>221</th>\n",
       "      <td>* United States\\r\\n\\r\\nIBM® * Site map\\r\\n\\r\\n...</td>\n",
       "      <td>When used to make sense of huge amounts of con...</td>\n",
       "      <td>How smart catalogs can turn the big data flood...</td>\n",
       "      <td>Live</td>\n",
       "      <td>221</td>\n",
       "    </tr>\n",
       "    <tr>\n",
       "      <th>692</th>\n",
       "      <td>Homepage Follow Sign in / Sign up Homepage * H...</td>\n",
       "      <td>One of the earliest documented catalogs was co...</td>\n",
       "      <td>How smart catalogs can turn the big data flood...</td>\n",
       "      <td>Live</td>\n",
       "      <td>221</td>\n",
       "    </tr>\n",
       "    <tr>\n",
       "      <th>232</th>\n",
       "      <td>Homepage Follow Sign in Get started Homepage *...</td>\n",
       "      <td>If you are like most data scientists, you are ...</td>\n",
       "      <td>Self-service data preparation with IBM Data Re...</td>\n",
       "      <td>Live</td>\n",
       "      <td>232</td>\n",
       "    </tr>\n",
       "    <tr>\n",
       "      <th>971</th>\n",
       "      <td>Homepage Follow Sign in Get started * Home\\r\\n...</td>\n",
       "      <td>If you are like most data scientists, you are ...</td>\n",
       "      <td>Self-service data preparation with IBM Data Re...</td>\n",
       "      <td>Live</td>\n",
       "      <td>232</td>\n",
       "    </tr>\n",
       "    <tr>\n",
       "      <th>399</th>\n",
       "      <td>Homepage Follow Sign in Get started * Home\\r\\n...</td>\n",
       "      <td>Today’s world of data science leverages data f...</td>\n",
       "      <td>Using Apache Spark as a parallel processing fr...</td>\n",
       "      <td>Live</td>\n",
       "      <td>398</td>\n",
       "    </tr>\n",
       "    <tr>\n",
       "      <th>761</th>\n",
       "      <td>Homepage Follow Sign in Get started Homepage *...</td>\n",
       "      <td>Today’s world of data science leverages data f...</td>\n",
       "      <td>Using Apache Spark as a parallel processing fr...</td>\n",
       "      <td>Live</td>\n",
       "      <td>398</td>\n",
       "    </tr>\n",
       "    <tr>\n",
       "      <th>578</th>\n",
       "      <td>This video shows you how to construct queries ...</td>\n",
       "      <td>This video shows you how to construct queries ...</td>\n",
       "      <td>Use the Primary Index</td>\n",
       "      <td>Live</td>\n",
       "      <td>577</td>\n",
       "    </tr>\n",
       "    <tr>\n",
       "      <th>970</th>\n",
       "      <td>This video shows you how to construct queries ...</td>\n",
       "      <td>This video shows you how to construct queries ...</td>\n",
       "      <td>Use the Primary Index</td>\n",
       "      <td>Live</td>\n",
       "      <td>577</td>\n",
       "    </tr>\n",
       "  </tbody>\n",
       "</table>\n",
       "</div>"
      ],
      "text/plain": [
       "                                              doc_body  \\\n",
       "50   Follow Sign in / Sign up Home About Insight Da...   \n",
       "365  Follow Sign in / Sign up Home About Insight Da...   \n",
       "221  * United States\\r\\n\\r\\nIBM® * Site map\\r\\n\\r\\n...   \n",
       "692  Homepage Follow Sign in / Sign up Homepage * H...   \n",
       "232  Homepage Follow Sign in Get started Homepage *...   \n",
       "971  Homepage Follow Sign in Get started * Home\\r\\n...   \n",
       "399  Homepage Follow Sign in Get started * Home\\r\\n...   \n",
       "761  Homepage Follow Sign in Get started Homepage *...   \n",
       "578  This video shows you how to construct queries ...   \n",
       "970  This video shows you how to construct queries ...   \n",
       "\n",
       "                                       doc_description  \\\n",
       "50                        Community Detection at Scale   \n",
       "365  During the seven-week Insight Data Engineering...   \n",
       "221  When used to make sense of huge amounts of con...   \n",
       "692  One of the earliest documented catalogs was co...   \n",
       "232  If you are like most data scientists, you are ...   \n",
       "971  If you are like most data scientists, you are ...   \n",
       "399  Today’s world of data science leverages data f...   \n",
       "761  Today’s world of data science leverages data f...   \n",
       "578  This video shows you how to construct queries ...   \n",
       "970  This video shows you how to construct queries ...   \n",
       "\n",
       "                                         doc_full_name doc_status  article_id  \n",
       "50                        Graph-based machine learning       Live          50  \n",
       "365                       Graph-based machine learning       Live          50  \n",
       "221  How smart catalogs can turn the big data flood...       Live         221  \n",
       "692  How smart catalogs can turn the big data flood...       Live         221  \n",
       "232  Self-service data preparation with IBM Data Re...       Live         232  \n",
       "971  Self-service data preparation with IBM Data Re...       Live         232  \n",
       "399  Using Apache Spark as a parallel processing fr...       Live         398  \n",
       "761  Using Apache Spark as a parallel processing fr...       Live         398  \n",
       "578                              Use the Primary Index       Live         577  \n",
       "970                              Use the Primary Index       Live         577  "
      ]
     },
     "execution_count": 8,
     "metadata": {},
     "output_type": "execute_result"
    }
   ],
   "source": [
    "df_content[df_content['article_id'].isin(df_content['article_id'][dup])].sort_values(by='article_id')"
   ]
  },
  {
   "cell_type": "markdown",
   "metadata": {},
   "source": [
    "Appears that the articles have the same full name, however the `doc_body` or `doc_description` changed slightly."
   ]
  },
  {
   "cell_type": "code",
   "execution_count": 9,
   "metadata": {
    "collapsed": true
   },
   "outputs": [],
   "source": [
    "# drop duplicates\n",
    "df_content = df_content[dup == False]"
   ]
  },
  {
   "cell_type": "markdown",
   "metadata": {},
   "source": [
    "`3.` Use the cells below to find:\n",
    "\n",
    "**a.** The number of unique articles that have an interaction with a user.  \n",
    "**b.** The number of unique articles in the dataset (whether they have any interactions or not).<br>\n",
    "**c.** The number of unique users in the dataset. (excluding null values) <br>\n",
    "**d.** The number of user-article interactions in the dataset."
   ]
  },
  {
   "cell_type": "code",
   "execution_count": 10,
   "metadata": {
    "collapsed": true
   },
   "outputs": [
    {
     "data": {
      "text/plain": [
       "45993"
      ]
     },
     "execution_count": 10,
     "metadata": {},
     "output_type": "execute_result"
    }
   ],
   "source": [
    "len(df)"
   ]
  },
  {
   "cell_type": "code",
   "execution_count": 11,
   "metadata": {},
   "outputs": [
    {
     "data": {
      "text/plain": [
       "True"
      ]
     },
     "execution_count": 11,
     "metadata": {},
     "output_type": "execute_result"
    }
   ],
   "source": [
    "ver = [int(x) for x in pd.__version__.split('.')]\n",
    "ver[0] == 0"
   ]
  },
  {
   "cell_type": "code",
   "execution_count": 12,
   "metadata": {
    "collapsed": true
   },
   "outputs": [
    {
     "name": "stdout",
     "output_type": "stream",
     "text": [
      "There are 714 articles of 1051 total that have an interaction.\n",
      "There are 5148 users with a total of 45993 interactions\n"
     ]
    }
   ],
   "source": [
    "unique_articles = len(df['article_id'].unique()) # The number of unique articles that have at least one interaction\n",
    "total_articles = len(df_content['article_id'].unique()) # The number of unique articles on the IBM platform\n",
    "unique_users = len(df['email'].dropna().unique()) # The number of unique users\n",
    "user_article_interactions = len(df) # The number of user-article interactions\n",
    "print(\"There are {} articles of {} total that have an interaction.\".format(unique_articles, total_articles))\n",
    "print(\"There are {} users with a total of {} interactions\".format(unique_users, user_article_interactions))"
   ]
  },
  {
   "cell_type": "markdown",
   "metadata": {},
   "source": [
    "`4.` Use the cells below to find the most viewed **article_id**, as well as how often it was viewed.  After talking to the company leaders, the `email_mapper` function was deemed a reasonable way to map users to ids.  There were a small number of null values, and it was found that all of these null values likely belonged to a single user (which is how they are stored using the function below)."
   ]
  },
  {
   "cell_type": "code",
   "execution_count": 13,
   "metadata": {
    "collapsed": true
   },
   "outputs": [
    {
     "data": {
      "text/html": [
       "<div>\n",
       "<style scoped>\n",
       "    .dataframe tbody tr th:only-of-type {\n",
       "        vertical-align: middle;\n",
       "    }\n",
       "\n",
       "    .dataframe tbody tr th {\n",
       "        vertical-align: top;\n",
       "    }\n",
       "\n",
       "    .dataframe thead th {\n",
       "        text-align: right;\n",
       "    }\n",
       "</style>\n",
       "<table border=\"1\" class=\"dataframe\">\n",
       "  <thead>\n",
       "    <tr style=\"text-align: right;\">\n",
       "      <th></th>\n",
       "      <th>article_id</th>\n",
       "      <th>email</th>\n",
       "    </tr>\n",
       "  </thead>\n",
       "  <tbody>\n",
       "    <tr>\n",
       "      <th>699</th>\n",
       "      <td>1429.0</td>\n",
       "      <td>937</td>\n",
       "    </tr>\n",
       "    <tr>\n",
       "      <th>625</th>\n",
       "      <td>1330.0</td>\n",
       "      <td>927</td>\n",
       "    </tr>\n",
       "    <tr>\n",
       "      <th>701</th>\n",
       "      <td>1431.0</td>\n",
       "      <td>671</td>\n",
       "    </tr>\n",
       "    <tr>\n",
       "      <th>697</th>\n",
       "      <td>1427.0</td>\n",
       "      <td>643</td>\n",
       "    </tr>\n",
       "    <tr>\n",
       "      <th>652</th>\n",
       "      <td>1364.0</td>\n",
       "      <td>627</td>\n",
       "    </tr>\n",
       "  </tbody>\n",
       "</table>\n",
       "</div>"
      ],
      "text/plain": [
       "     article_id  email\n",
       "699      1429.0    937\n",
       "625      1330.0    927\n",
       "701      1431.0    671\n",
       "697      1427.0    643\n",
       "652      1364.0    627"
      ]
     },
     "execution_count": 13,
     "metadata": {},
     "output_type": "execute_result"
    }
   ],
   "source": [
    "article_views = df.groupby('article_id').count()['email'].reset_index().sort_values(by='email', ascending=False)\n",
    "article_views.head()"
   ]
  },
  {
   "cell_type": "code",
   "execution_count": 14,
   "metadata": {
    "collapsed": true
   },
   "outputs": [
    {
     "name": "stdout",
     "output_type": "stream",
     "text": [
      "Article 1429.0 was most viewed (937 views)\n"
     ]
    }
   ],
   "source": [
    "most_viewed_article_id = str(article_views.iloc[0, 0]) # The most viewed article in the dataset as a string with one value following the decimal \n",
    "max_views = article_views.iloc[0, 1] # The most viewed article in the dataset was viewed how many times?\n",
    "print(\"Article {} was most viewed ({} views)\".format(most_viewed_article_id, max_views))"
   ]
  },
  {
   "cell_type": "code",
   "execution_count": 15,
   "metadata": {
    "collapsed": true
   },
   "outputs": [
    {
     "data": {
      "text/html": [
       "<div>\n",
       "<style scoped>\n",
       "    .dataframe tbody tr th:only-of-type {\n",
       "        vertical-align: middle;\n",
       "    }\n",
       "\n",
       "    .dataframe tbody tr th {\n",
       "        vertical-align: top;\n",
       "    }\n",
       "\n",
       "    .dataframe thead th {\n",
       "        text-align: right;\n",
       "    }\n",
       "</style>\n",
       "<table border=\"1\" class=\"dataframe\">\n",
       "  <thead>\n",
       "    <tr style=\"text-align: right;\">\n",
       "      <th></th>\n",
       "      <th>article_id</th>\n",
       "      <th>title</th>\n",
       "      <th>user_id</th>\n",
       "    </tr>\n",
       "  </thead>\n",
       "  <tbody>\n",
       "    <tr>\n",
       "      <th>0</th>\n",
       "      <td>1430.0</td>\n",
       "      <td>using pixiedust for fast, flexible, and easier...</td>\n",
       "      <td>1</td>\n",
       "    </tr>\n",
       "    <tr>\n",
       "      <th>1</th>\n",
       "      <td>1314.0</td>\n",
       "      <td>healthcare python streaming application demo</td>\n",
       "      <td>2</td>\n",
       "    </tr>\n",
       "    <tr>\n",
       "      <th>2</th>\n",
       "      <td>1429.0</td>\n",
       "      <td>use deep learning for image classification</td>\n",
       "      <td>3</td>\n",
       "    </tr>\n",
       "    <tr>\n",
       "      <th>3</th>\n",
       "      <td>1338.0</td>\n",
       "      <td>ml optimization using cognitive assistant</td>\n",
       "      <td>4</td>\n",
       "    </tr>\n",
       "    <tr>\n",
       "      <th>4</th>\n",
       "      <td>1276.0</td>\n",
       "      <td>deploy your python model as a restful api</td>\n",
       "      <td>5</td>\n",
       "    </tr>\n",
       "  </tbody>\n",
       "</table>\n",
       "</div>"
      ],
      "text/plain": [
       "   article_id                                              title  user_id\n",
       "0      1430.0  using pixiedust for fast, flexible, and easier...        1\n",
       "1      1314.0       healthcare python streaming application demo        2\n",
       "2      1429.0         use deep learning for image classification        3\n",
       "3      1338.0          ml optimization using cognitive assistant        4\n",
       "4      1276.0          deploy your python model as a restful api        5"
      ]
     },
     "execution_count": 15,
     "metadata": {},
     "output_type": "execute_result"
    }
   ],
   "source": [
    "## No need to change the code here - this will be helpful for later parts of the notebook\n",
    "# Run this cell to map the user email to a user_id column and remove the email column\n",
    "\n",
    "def email_mapper():\n",
    "    coded_dict = dict()\n",
    "    cter = 1\n",
    "    email_encoded = []\n",
    "    \n",
    "    for val in df['email']:\n",
    "        if val not in coded_dict:\n",
    "            coded_dict[val] = cter\n",
    "            cter+=1\n",
    "        \n",
    "        email_encoded.append(coded_dict[val])\n",
    "    return email_encoded\n",
    "\n",
    "email_encoded = email_mapper()\n",
    "del df['email']\n",
    "df['user_id'] = email_encoded\n",
    "\n",
    "# show header\n",
    "df.head()"
   ]
  },
  {
   "cell_type": "code",
   "execution_count": 16,
   "metadata": {
    "collapsed": true
   },
   "outputs": [
    {
     "name": "stdout",
     "output_type": "stream",
     "text": [
      "It looks like you have everything right here! Nice job!\n"
     ]
    }
   ],
   "source": [
    "## If you stored all your results in the variable names above, \n",
    "## you shouldn't need to change anything in this cell\n",
    "\n",
    "sol_1_dict = {\n",
    "    '`50% of individuals have _____ or fewer interactions.`': median_val,\n",
    "    '`The total number of user-article interactions in the dataset is ______.`': user_article_interactions,\n",
    "    '`The maximum number of user-article interactions by any 1 user is ______.`': max_views_by_user,\n",
    "    '`The most viewed article in the dataset was viewed _____ times.`': max_views,\n",
    "    '`The article_id of the most viewed article is ______.`': most_viewed_article_id,\n",
    "    '`The number of unique articles that have at least 1 rating ______.`': unique_articles,\n",
    "    '`The number of unique users in the dataset is ______`': unique_users,\n",
    "    '`The number of unique articles on the IBM platform`': total_articles\n",
    "}\n",
    "\n",
    "# Test your dictionary against the solution\n",
    "t.sol_1_test(sol_1_dict)"
   ]
  },
  {
   "cell_type": "markdown",
   "metadata": {},
   "source": [
    "### <a class=\"anchor\" id=\"Rank\">Part II: Rank-Based Recommendations</a>\n",
    "\n",
    "Unlike in the earlier lessons, we don't actually have ratings for whether a user liked an article or not.  We only know that a user has interacted with an article.  In these cases, the popularity of an article can really only be based on how often an article was interacted with.\n",
    "\n",
    "`1.` Fill in the function below to return the **n** top articles ordered with most interactions as the top. Test your function using the tests below."
   ]
  },
  {
   "cell_type": "code",
   "execution_count": 17,
   "metadata": {
    "collapsed": true
   },
   "outputs": [],
   "source": [
    "def get_top_articles(n, df=df):\n",
    "    '''\n",
    "    INPUT:\n",
    "    n - (int) the number of top articles to return\n",
    "    df - (pandas dataframe) df as defined at the top of the notebook \n",
    "    \n",
    "    OUTPUT:\n",
    "    top_articles - (list) A list of the top 'n' article titles \n",
    "    \n",
    "    '''\n",
    "    # Your code here\n",
    "    tf = ask.transformer.RankingTransformer(['title'], id_col='article_id', agg_fcts=['count'], ascending=False)\n",
    "    ids = tf.transform(df).head(n)\n",
    "    # retrieve relevant names from list\n",
    "    top_articles = ids.join(df.groupby('article_id').first()[['title']])['title'].values\n",
    "    return top_articles\n",
    "\n",
    "def get_top_article_ids(n, df=df):\n",
    "    '''\n",
    "    INPUT:\n",
    "    n - (int) the number of top articles to return\n",
    "    df - (pandas dataframe) df as defined at the top of the notebook \n",
    "    \n",
    "    OUTPUT:\n",
    "    top_articles - (list) A list of the top 'n' article titles \n",
    "    \n",
    "    '''\n",
    "    # Your code here\n",
    "    tf = ask.transformer.RankingTransformer(['title'], id_col='article_id', agg_fcts=['count'], ascending=False)\n",
    "    top_articles = list(tf.transform(df).head(n).index.astype(str))\n",
    "    return top_articles # Return the top article ids"
   ]
  },
  {
   "cell_type": "code",
   "execution_count": 18,
   "metadata": {
    "collapsed": true
   },
   "outputs": [
    {
     "name": "stdout",
     "output_type": "stream",
     "text": [
      "['use deep learning for image classification'\n",
      " 'insights from new york car accident reports'\n",
      " 'visualize car data with brunel'\n",
      " 'use xgboost, scikit-learn & ibm watson machine learning apis'\n",
      " 'predicting churn with the spss random tree algorithm'\n",
      " 'healthcare python streaming application demo'\n",
      " 'finding optimal locations of new store using decision optimization'\n",
      " 'apache spark lab, part 1: basic concepts'\n",
      " 'analyze energy consumption in buildings'\n",
      " 'gosales transactions for logistic regression model']\n",
      "['1429.0', '1330.0', '1431.0', '1427.0', '1364.0', '1314.0', '1293.0', '1170.0', '1162.0', '1304.0']\n"
     ]
    }
   ],
   "source": [
    "print(get_top_articles(10))\n",
    "print(get_top_article_ids(10))"
   ]
  },
  {
   "cell_type": "code",
   "execution_count": 19,
   "metadata": {
    "collapsed": true
   },
   "outputs": [
    {
     "name": "stdout",
     "output_type": "stream",
     "text": [
      "Your top_5 looks like the solution list! Nice job.\n",
      "Your top_10 looks like the solution list! Nice job.\n",
      "Your top_20 looks like the solution list! Nice job.\n"
     ]
    }
   ],
   "source": [
    "# Test your function by returning the top 5, 10, and 20 articles\n",
    "top_5 = get_top_articles(5)\n",
    "top_10 = get_top_articles(10)\n",
    "top_20 = get_top_articles(20)\n",
    "\n",
    "# Test each of your three lists from above\n",
    "t.sol_2_test(get_top_articles)"
   ]
  },
  {
   "cell_type": "markdown",
   "metadata": {},
   "source": [
    "### <a class=\"anchor\" id=\"User-User\">Part III: User-User Based Collaborative Filtering</a>\n",
    "\n",
    "\n",
    "`1.` Use the function below to reformat the **df** dataframe to be shaped with users as the rows and articles as the columns.  \n",
    "\n",
    "* Each **user** should only appear in each **row** once.\n",
    "\n",
    "\n",
    "* Each **article** should only show up in one **column**.  \n",
    "\n",
    "\n",
    "* **If a user has interacted with an article, then place a 1 where the user-row meets for that article-column**.  It does not matter how many times a user has interacted with the article, all entries where a user has interacted with an article should be a 1.  \n",
    "\n",
    "\n",
    "* **If a user has not interacted with an item, then place a zero where the user-row meets for that article-column**. \n",
    "\n",
    "Use the tests to make sure the basic structure of your matrix matches what is expected by the solution."
   ]
  },
  {
   "cell_type": "code",
   "execution_count": 20,
   "metadata": {
    "collapsed": true
   },
   "outputs": [],
   "source": [
    "# create the user-article matrix with 1's and 0's\n",
    "\n",
    "def create_user_item_matrix(df):\n",
    "    '''\n",
    "    INPUT:\n",
    "    df - pandas dataframe with article_id, title, user_id columns\n",
    "    \n",
    "    OUTPUT:\n",
    "    user_item - user item matrix \n",
    "    \n",
    "    Description:\n",
    "    Return a matrix with user ids as rows and article ids on the columns with 1 values where a user interacted with \n",
    "    an article and a 0 otherwise\n",
    "    '''\n",
    "    # Fill in the function here\n",
    "    tf = ask.transformer.UserItemTransformer(user_col='user_id', item_col='article_id', value_col='title', binarize=True)\n",
    "    user_item = tf.transform(df)\n",
    "    return user_item # return the user_item matrix \n",
    "\n",
    "user_item = create_user_item_matrix(df)"
   ]
  },
  {
   "cell_type": "code",
   "execution_count": 21,
   "metadata": {
    "collapsed": true
   },
   "outputs": [
    {
     "name": "stdout",
     "output_type": "stream",
     "text": [
      "You have passed our quick tests!  Please proceed!\n"
     ]
    }
   ],
   "source": [
    "## Tests: You should just need to run this cell.  Don't change the code.\n",
    "assert user_item.shape[0] == 5149, \"Oops!  The number of users in the user-article matrix doesn't look right.\"\n",
    "assert user_item.shape[1] == 714, \"Oops!  The number of articles in the user-article matrix doesn't look right.\"\n",
    "assert user_item.sum(axis=1)[1] == 36, \"Oops!  The number of articles seen by user 1 doesn't look right.\"\n",
    "print(\"You have passed our quick tests!  Please proceed!\")"
   ]
  },
  {
   "cell_type": "markdown",
   "metadata": {},
   "source": [
    "`2.` Complete the function below which should take a user_id and provide an ordered list of the most similar users to that user (from most similar to least similar).  The returned result should not contain the provided user_id, as we know that each user is similar to him/herself. Because the results for each user here are binary, it (perhaps) makes sense to compute similarity as the dot product of two users. \n",
    "\n",
    "Use the tests to test your function."
   ]
  },
  {
   "cell_type": "code",
   "execution_count": 22,
   "metadata": {
    "collapsed": true
   },
   "outputs": [],
   "source": [
    "def find_similar_users(user_id, user_item=user_item):\n",
    "    '''\n",
    "    INPUT:\n",
    "    user_id - (int) a user_id\n",
    "    user_item - (pandas dataframe) matrix of users by articles: \n",
    "                1's when a user has interacted with an article, 0 otherwise\n",
    "    \n",
    "    OUTPUT:\n",
    "    similar_users - (list) an ordered list where the closest users (largest dot product users)\n",
    "                    are listed first\n",
    "    \n",
    "    Description:\n",
    "    Computes the similarity of every pair of users based on the dot product\n",
    "    Returns an ordered\n",
    "    \n",
    "    '''\n",
    "    # compute similarity of each user to the provided user\n",
    "    tf = ask.transformer.SimilarityTransformer(cols=(0, -1), normalize=False)\n",
    "    sim = tf.transform(user_item)\n",
    "\n",
    "    # create list of just the ids\n",
    "    rec = ask.recommender.SimilarityRecommender(None).fit(sim)\n",
    "    most_similar_users = rec.predict([user_id])[0]\n",
    "       \n",
    "    return most_similar_users # return a list of the users in order from most to least similar\n",
    "        "
   ]
  },
  {
   "cell_type": "code",
   "execution_count": 23,
   "metadata": {
    "collapsed": true
   },
   "outputs": [
    {
     "name": "stdout",
     "output_type": "stream",
     "text": [
      "The 10 most similar users to user 1 are: [3933   23 3782  203 4459  131 3870   46 4201 5041]\n",
      "The 5 most similar users to user 3933 are: [   1   23 3782 4459  203]\n",
      "The 3 most similar users to user 46 are: [4201   23 3782]\n"
     ]
    }
   ],
   "source": [
    "# Do a spot check of your function\n",
    "print(\"The 10 most similar users to user 1 are: {}\".format(find_similar_users(1)[:10]))\n",
    "print(\"The 5 most similar users to user 3933 are: {}\".format(find_similar_users(3933)[:5]))\n",
    "print(\"The 3 most similar users to user 46 are: {}\".format(find_similar_users(46)[:3]))"
   ]
  },
  {
   "cell_type": "markdown",
   "metadata": {},
   "source": [
    "`3.` Now that you have a function that provides the most similar users to each user, you will want to use these users to find articles you can recommend.  Complete the functions below to return the articles you would recommend to each user. "
   ]
  },
  {
   "cell_type": "code",
   "execution_count": 24,
   "metadata": {
    "collapsed": true
   },
   "outputs": [],
   "source": [
    "def get_article_names(article_ids, df=df):\n",
    "    '''\n",
    "    INPUT:\n",
    "    article_ids - (list) a list of article ids\n",
    "    df - (pandas dataframe) df as defined at the top of the notebook\n",
    "    \n",
    "    OUTPUT:\n",
    "    article_names - (list) a list of article names associated with the list of article ids \n",
    "                    (this is identified by the title column)\n",
    "    '''\n",
    "    # convert (as items as indexed as flaots)\n",
    "    article_ids = np.array(article_ids).astype('float')\n",
    "    article_names = df.groupby('article_id').first().loc[article_ids, 'title'].values\n",
    "    return article_names\n",
    "\n",
    "def get_user_articles(user_id, user_item=user_item):\n",
    "    '''\n",
    "    INPUT:\n",
    "    user_id - (int) a user id\n",
    "    user_item - (pandas dataframe) matrix of users by articles: \n",
    "                1's when a user has interacted with an article, 0 otherwise\n",
    "    \n",
    "    OUTPUT:\n",
    "    article_ids - (list) a list of the article ids seen by the user\n",
    "    article_names - (list) a list of article names associated with the list of article ids \n",
    "                    (this is identified by the doc_full_name column in df_content)\n",
    "    \n",
    "    Description:\n",
    "    Provides a list of the article_ids and article titles that have been seen by a user\n",
    "    '''\n",
    "    # retrieve the ids based on the relevant columns\n",
    "    article_ids = user_item.loc[user_id]\n",
    "    article_ids = list(article_ids[article_ids > 0].index.astype('str'))\n",
    "    # use previous function\n",
    "    article_names = get_article_names(article_ids, df)\n",
    "    return article_ids, article_names\n",
    "\n",
    "def user_user_recs(user_id, m=10):\n",
    "    '''\n",
    "    INPUT:\n",
    "    user_id - (int) a user id\n",
    "    m - (int) the number of recommendations you want for the user\n",
    "    \n",
    "    OUTPUT:\n",
    "    recs - (list) a list of recommendations for the user\n",
    "    \n",
    "    Description:\n",
    "    Loops through the users based on closeness to the input user_id\n",
    "    For each user - finds articles the user hasn't seen before and provides them as recs\n",
    "    Does this until m recommendations are found\n",
    "    \n",
    "    Notes:\n",
    "    Users who are the same closeness are chosen arbitrarily as the 'next' user\n",
    "    \n",
    "    For the user where the number of recommended articles starts below m \n",
    "    and ends exceeding m, the last items are chosen arbitrarily\n",
    "    \n",
    "    '''\n",
    "    # recalc sim matrix\n",
    "    tf = ask.transformer.SimilarityTransformer(cols=(0, -1), normalize=False)\n",
    "    sim = tf.transform(user_item)\n",
    "    \n",
    "    # create the recommender\n",
    "    rec = ask.recommender.CrossSimilarityRecommender(m, filter=lambda x: x>0).fit((user_item, sim))\n",
    "    \n",
    "    # calculate recommendations\n",
    "    recs = rec.predict([user_id])[0]\n",
    "    return recs"
   ]
  },
  {
   "cell_type": "code",
   "execution_count": 25,
   "metadata": {
    "collapsed": true
   },
   "outputs": [
    {
     "data": {
      "text/plain": [
       "array(['this week in data science (april 18, 2017)',\n",
       "       'timeseries data analysis of iot events by using jupyter notebook',\n",
       "       'got zip code data? prep it for analytics. – ibm watson data lab – medium',\n",
       "       'higher-order logistic regression for large datasets',\n",
       "       'using machine learning to predict parking difficulty',\n",
       "       'deep forest: towards an alternative to deep neural networks',\n",
       "       'experience iot with coursera',\n",
       "       'using brunel in ipython/jupyter notebooks',\n",
       "       'graph-based machine learning',\n",
       "       'the 3 kinds of context: machine learning and the art of the frame'],\n",
       "      dtype=object)"
      ]
     },
     "execution_count": 25,
     "metadata": {},
     "output_type": "execute_result"
    }
   ],
   "source": [
    "# Check Results\n",
    "get_article_names(user_user_recs(1, 10)) # Return 10 recommendations for user 1"
   ]
  },
  {
   "cell_type": "code",
   "execution_count": 26,
   "metadata": {
    "collapsed": true
   },
   "outputs": [
    {
     "name": "stdout",
     "output_type": "stream",
     "text": [
      "If this is all you see, you passed all of our tests!  Nice job!\n"
     ]
    }
   ],
   "source": [
    "# Test your functions here - No need to change this code - just run this cell\n",
    "assert set(get_article_names(['1024.0', '1176.0', '1305.0', '1314.0', '1422.0', '1427.0'])) == set(['using deep learning to reconstruct high-resolution audio', 'build a python app on the streaming analytics service', 'gosales transactions for naive bayes model', 'healthcare python streaming application demo', 'use r dataframes & ibm watson natural language understanding', 'use xgboost, scikit-learn & ibm watson machine learning apis']), \"Oops! Your the get_article_names function doesn't work quite how we expect.\"\n",
    "assert set(get_article_names(['1320.0', '232.0', '844.0'])) == set(['housing (2015): united states demographic measures','self-service data preparation with ibm data refinery','use the cloudant-spark connector in python notebook']), \"Oops! Your the get_article_names function doesn't work quite how we expect.\"\n",
    "assert set(get_user_articles(20)[0]) == set(['1320.0', '232.0', '844.0'])\n",
    "assert set(get_user_articles(20)[1]) == set(['housing (2015): united states demographic measures', 'self-service data preparation with ibm data refinery','use the cloudant-spark connector in python notebook'])\n",
    "assert set(get_user_articles(2)[0]) == set(['1024.0', '1176.0', '1305.0', '1314.0', '1422.0', '1427.0'])\n",
    "assert set(get_user_articles(2)[1]) == set(['using deep learning to reconstruct high-resolution audio', 'build a python app on the streaming analytics service', 'gosales transactions for naive bayes model', 'healthcare python streaming application demo', 'use r dataframes & ibm watson natural language understanding', 'use xgboost, scikit-learn & ibm watson machine learning apis'])\n",
    "print(\"If this is all you see, you passed all of our tests!  Nice job!\")"
   ]
  },
  {
   "cell_type": "markdown",
   "metadata": {},
   "source": [
    "`4.` Now we are going to improve the consistency of the **user_user_recs** function from above.  \n",
    "\n",
    "* Instead of arbitrarily choosing when we obtain users who are all the same closeness to a given user - choose the users that have the most total article interactions before choosing those with fewer article interactions.\n",
    "\n",
    "\n",
    "* Instead of arbitrarily choosing articles from the user where the number of recommended articles starts below m and ends exceeding m, choose articles with the articles with the most total interactions before choosing those with fewer total interactions. This ranking should be  what would be obtained from the **top_articles** function you wrote earlier."
   ]
  },
  {
   "cell_type": "code",
   "execution_count": 27,
   "metadata": {
    "collapsed": true
   },
   "outputs": [],
   "source": [
    "def get_top_sorted_users(user_id, df=df, user_item=user_item):\n",
    "    '''\n",
    "    INPUT:\n",
    "    user_id - (int)\n",
    "    df - (pandas dataframe) df as defined at the top of the notebook \n",
    "    user_item - (pandas dataframe) matrix of users by articles: \n",
    "            1's when a user has interacted with an article, 0 otherwise\n",
    "    \n",
    "            \n",
    "    OUTPUT:\n",
    "    neighbors_df - (pandas dataframe) a dataframe with:\n",
    "                    neighbor_id - is a neighbor user_id\n",
    "                    similarity - measure of the similarity of each user to the provided user_id\n",
    "                    num_interactions - the number of articles viewed by the user - if a u\n",
    "                    \n",
    "    Other Details - sort the neighbors_df by the similarity and then by number of interactions where \n",
    "                    highest of each is higher in the dataframe\n",
    "     \n",
    "    '''\n",
    "    # optionally use user_item here to calculate similarity (computationally expensive)\n",
    "    tf = ask.transformer.SimilarityTransformer(cols=(0, -1), normalize=False)\n",
    "    sim = tf.transform(user_item)\n",
    "    \n",
    "    # select the list of users that are similar\n",
    "    sim_users = pd.DataFrame(sim.loc[user_id])\n",
    "    sim_users.columns=['similarity']\n",
    "    \n",
    "    # calculate the number of interactions for the given user\n",
    "    user_interact = pd.DataFrame(user_item.sum(axis=1), columns=['num_interactions'])\n",
    "    \n",
    "    # setup final df\n",
    "    neighbors_df = sim_users.join(user_interact).sort_values(by=['similarity', 'num_interactions'], ascending=False)\n",
    "    neighbors_df = neighbors_df.drop(user_id)\n",
    "    neighbors_df = neighbors_df.reset_index().rename(columns={'index': 'neighbor_id'})\n",
    "    \n",
    "    return neighbors_df # Return the dataframe specified in the doc_string\n",
    "\n",
    "\n",
    "def user_user_recs_part2(user_id, m=10):\n",
    "    '''\n",
    "    INPUT:\n",
    "    user_id - (int) a user id\n",
    "    m - (int) the number of recommendations you want for the user\n",
    "    \n",
    "    OUTPUT:\n",
    "    recs - (list) a list of recommendations for the user by article id\n",
    "    rec_names - (list) a list of recommendations for the user by article title\n",
    "    \n",
    "    Description:\n",
    "    Loops through the users based on closeness to the input user_id\n",
    "    For each user - finds articles the user hasn't seen before and provides them as recs\n",
    "    Does this until m recommendations are found\n",
    "    \n",
    "    Notes:\n",
    "    * Choose the users that have the most total article interactions \n",
    "    before choosing those with fewer article interactions.\n",
    "\n",
    "    * Choose articles with the articles with the most total interactions \n",
    "    before choosing those with fewer total interactions. \n",
    "   \n",
    "    '''\n",
    "    # recalc sim matrix\n",
    "    tf = ask.transformer.SimilarityTransformer(cols=(0, -1), normalize=False)\n",
    "    sim = tf.transform(user_item)\n",
    "    \n",
    "    # create the recommender\n",
    "    sim_rec = lambda: ask.recommender.SimilarityRecommender(sort='count', ascending=False)\n",
    "    rec = ask.recommender.CrossSimilarityRecommender(m, filter=lambda x: x>0, similarity=sim_rec).fit((user_item, sim))\n",
    "    \n",
    "    # calculate recommendations\n",
    "    recs = rec.predict([user_id])[0]\n",
    "    \n",
    "    rec_names = get_article_names(recs)\n",
    "    \n",
    "    return recs, rec_names"
   ]
  },
  {
   "cell_type": "code",
   "execution_count": 28,
   "metadata": {
    "collapsed": true
   },
   "outputs": [
    {
     "name": "stdout",
     "output_type": "stream",
     "text": [
      "The top 10 recommendations for user 20 are the following article ids:\n",
      "[ 43. 109. 111. 112. 164. 213. 225. 313. 337. 379.]\n",
      "\n",
      "The top 10 recommendations for user 20 are the following article names:\n",
      "['deep learning with tensorflow course by big data university'\n",
      " 'tensorflow quick tips' 'tidy up your jupyter notebooks with scripts'\n",
      " 'building custom machine learning algorithms with apache systemml'\n",
      " 'learn tensorflow and deep learning together and now!'\n",
      " 'modeling energy usage in new york city'\n",
      " 'a visual explanation of the back propagation algorithm for neural networks'\n",
      " 'what is machine learning?' 'generalization in deep learning'\n",
      " 'data structures related to machine learning algorithms']\n"
     ]
    }
   ],
   "source": [
    "# Quick spot check - don't change this code - just use it to test your functions\n",
    "rec_ids, rec_names = user_user_recs_part2(20, 10)\n",
    "print(\"The top 10 recommendations for user 20 are the following article ids:\")\n",
    "print(rec_ids)\n",
    "print()\n",
    "print(\"The top 10 recommendations for user 20 are the following article names:\")\n",
    "print(rec_names)"
   ]
  },
  {
   "cell_type": "markdown",
   "metadata": {},
   "source": [
    "`5.` Use your functions from above to correctly fill in the solutions to the dictionary below.  Then test your dictionary against the solution.  Provide the code you need to answer each following the comments below."
   ]
  },
  {
   "cell_type": "code",
   "execution_count": 29,
   "metadata": {
    "collapsed": true
   },
   "outputs": [
    {
     "name": "stdout",
     "output_type": "stream",
     "text": [
      "Most similar to 1: 3933 / 10th most similar to 131: 242\n"
     ]
    }
   ],
   "source": [
    "### Tests with a dictionary of results\n",
    "\n",
    "# Find the user that is most similar to user 1 \n",
    "user1_most_sim = get_top_sorted_users(1)['neighbor_id'].values[0]\n",
    "# Find the 10th most similar user to user 131\n",
    "user131_10th_sim = get_top_sorted_users(131)['neighbor_id'].values[10]\n",
    "\n",
    "print(\"Most similar to 1: {} / 10th most similar to 131: {}\".format(user1_most_sim, user131_10th_sim))"
   ]
  },
  {
   "cell_type": "code",
   "execution_count": 30,
   "metadata": {
    "collapsed": true
   },
   "outputs": [
    {
     "name": "stdout",
     "output_type": "stream",
     "text": [
      "This all looks good!  Nice job!\n"
     ]
    }
   ],
   "source": [
    "## Dictionary Test Here\n",
    "sol_5_dict = {\n",
    "    'The user that is most similar to user 1.': user1_most_sim, \n",
    "    'The user that is the 10th most similar to user 131': user131_10th_sim,\n",
    "}\n",
    "\n",
    "t.sol_5_test(sol_5_dict)"
   ]
  },
  {
   "cell_type": "markdown",
   "metadata": {},
   "source": [
    "`6.` If we were given a new user, which of the above functions would you be able to use to make recommendations?  Explain.  Can you think of a better way we might make recommendations?  Use the cell below to explain a better method for new users."
   ]
  },
  {
   "cell_type": "markdown",
   "metadata": {},
   "source": [
    "***Answer:*** As we have no information about the user, the most relevant functions owuld be `get_top_articles`. This would allow us to recommend the best articles in general. A better approach would be, to have a questionair for users on login to identify general information (e.g. ask which of the popular items she/he likes). In that case we could leverage this information to make better recommendations. We might also use a querying or filtering system for the user to ask for topics of interest."
   ]
  },
  {
   "cell_type": "markdown",
   "metadata": {},
   "source": [
    "`7.` Using your existing functions, provide the top 10 recommended articles you would provide for the a new user below.  You can test your function against our thoughts to make sure we are all on the same page with how we might make a recommendation."
   ]
  },
  {
   "cell_type": "code",
   "execution_count": 31,
   "metadata": {
    "collapsed": true
   },
   "outputs": [],
   "source": [
    "new_user = '0.0'\n",
    "\n",
    "# What would your recommendations be for this new user '0.0'?  As a new user, they have no observed articles.\n",
    "# Provide a list of the top 10 article ids you would give to \n",
    "\n",
    "new_user_recs = get_top_article_ids(10)\n",
    "\n"
   ]
  },
  {
   "cell_type": "code",
   "execution_count": 32,
   "metadata": {
    "collapsed": true
   },
   "outputs": [
    {
     "name": "stdout",
     "output_type": "stream",
     "text": [
      "That's right!  Nice job!\n"
     ]
    }
   ],
   "source": [
    "assert set(new_user_recs) == set(['1314.0','1429.0','1293.0','1427.0','1162.0','1364.0','1304.0','1170.0','1431.0','1330.0']), \"Oops!  It makes sense that in this case we would want to recommend the most popular articles, because we don't know anything about these users.\"\n",
    "\n",
    "print(\"That's right!  Nice job!\")"
   ]
  },
  {
   "cell_type": "markdown",
   "metadata": {},
   "source": [
    "### <a class=\"anchor\" id=\"Content-Recs\">Part IV: Content Based Recommendations (EXTRA - NOT REQUIRED)</a>\n",
    "\n",
    "Another method we might use to make recommendations is to perform a ranking of the highest ranked articles associated with some term.  You might consider content to be the **doc_body**, **doc_description**, or **doc_full_name**.  There isn't one way to create a content based recommendation, especially considering that each of these columns hold content related information.  \n",
    "\n",
    "`1.` Use the function body below to create a content based recommender.  Since there isn't one right answer for this recommendation tactic, no test functions are provided.  Feel free to change the function inputs if you decide you want to try a method that requires more input values.  The input values are currently set with one idea in mind that you may use to make content based recommendations.  One additional idea is that you might want to choose the most popular recommendations that meet your 'content criteria', but again, there is a lot of flexibility in how you might make these recommendations.\n",
    "\n",
    "### This part is NOT REQUIRED to pass this project.  However, you may choose to take this on as an extra way to show off your skills."
   ]
  },
  {
   "cell_type": "code",
   "execution_count": 33,
   "metadata": {},
   "outputs": [
    {
     "name": "stdout",
     "output_type": "stream",
     "text": [
      "File found, no download needed\n"
     ]
    },
    {
     "data": {
      "text/plain": [
       "True"
      ]
     },
     "execution_count": 33,
     "metadata": {},
     "output_type": "execute_result"
    }
   ],
   "source": [
    "# download pre-trained glove embeddings (only run if not downloaded already)\n",
    "ask.glove.download('twitter')"
   ]
  },
  {
   "cell_type": "code",
   "execution_count": 34,
   "metadata": {
    "collapsed": true
   },
   "outputs": [],
   "source": [
    "from sklearn.feature_extraction.text import CountVectorizer, TfidfTransformer\n",
    "from scipy.spatial.distance import cosine\n",
    "\n",
    "def create_rec(emb_type='glove', df=df, df_content=df_content, user_item=user_item):\n",
    "    '''Creates a recommender module.\n",
    "    \n",
    "    This is just a workaround to build a full class, because I am lazy.\n",
    "    \n",
    "    Args:\n",
    "        emb_type (str): Defines the type of doc embedding used (options: 'glove' and 'tfidf')\n",
    "    \n",
    "    Returns:\n",
    "        Function that can be called with\n",
    "    '''\n",
    "    # calculate the similarity between users\n",
    "    tf = ask.transformer.SimilarityTransformer(cols=(0, -1), normalize=True)\n",
    "    user_sim = tf.transform(user_item)\n",
    "    #tf = ask.transformer.SimilarityTransformer(cols=(0, -1), normalize=False)\n",
    "    #docs_sim = tf.transform(user_item)\n",
    "    \n",
    "    # calculate the embeddings for each document\n",
    "    arts = df_content.astype({'article_id': 'float32'}).set_index('article_id')['doc_description'].astype('str')\n",
    "    if emb_type == 'glove':\n",
    "        emb = ask.glove.GloVeTransformer('twitter', 25, 'sent', tokenizer=ask.nlp.tokenize_clean)\n",
    "    else:\n",
    "        emb = Pipeline([\n",
    "            ('vectorize', CountVectorizer(tokenizer=ask.nlp.tokenize_clean, max_df=0.5)),\n",
    "            ('tfidf', TfidfTransformer()),\n",
    "        ])\n",
    "    # fit and transform\n",
    "    arts_emb = emb.transform(arts)\n",
    "    \n",
    "    # retrieve top articles\n",
    "    tf = ask.transformer.RankingTransformer(['title'], id_col='article_id', agg_fcts=['count'], ascending=False)\n",
    "    top_articles = tf.transform(df)\n",
    "    \n",
    "    # return all data named\n",
    "    return {'user_sim': user_sim, 'user_item': user_item, 'emb': emb, 'arts': arts, 'arts_emb': arts_emb, 'top_arts': top_articles}\n",
    "\n",
    "def _query_embedding(rec, emb, threshold, sim_type='cosine'):\n",
    "    '''Retrieves documents that are similar to the given one\n",
    "    \n",
    "    Args:\n",
    "        threshold (float): Min threshold for a doc to be included\n",
    "        sim_type (str): Type of similarity metric used (options: 'cosine', 'euclidean', 'xor')\n",
    "        \n",
    "    Returns:\n",
    "        docs: list of documents relevant to the embedding\n",
    "        probs: list of probability scores relevant\n",
    "    '''\n",
    "    # calculate the difference to each document in the embedding\n",
    "    docs = []\n",
    "    probs = []\n",
    "    for row in rec['arts_emb'].iterrows():\n",
    "        art_id = row[0]\n",
    "        art_emb = np.array(row[1].values)\n",
    "        if sim_type == 'cosine':\n",
    "            sim = cosine(np.array(emb).astype('float32'), art_emb.astype('float32'))\n",
    "        elif sim_type == 'euclidean':\n",
    "            sim = np.linalg.norm(emb-art_emb)\n",
    "        elif sim_type == 'xor':\n",
    "            sim = np.sum(np.dot(emb, art_emb))\n",
    "            \n",
    "        # filter results based on threshold\n",
    "        if sim >= threshold:\n",
    "            docs.append(art_id)\n",
    "            probs.append(sim)\n",
    "            \n",
    "    return docs, probs\n",
    "\n",
    "def make_content_recs(rec, _id, id_type='user', query=None, threshold=0.4, search_per_article=True, top_n=100):\n",
    "    '''\n",
    "    INPUT:\n",
    "    rec - (tuple) list of items that should not be recomputed every time\n",
    "    _id - (int/str) id of the user or article we want to make recommendations for (None if novel users)\n",
    "    id_type - (str) defines if the given id is for an article or user\n",
    "    query - (str) additional document query that is used for content filtering\n",
    "    threshold - (float) threshold to retrieve documents as relevant for the user\n",
    "    search_per_article (bool): Defines if the system should search recommendations per article (and concat them) or create a single embedding based on all docs\n",
    "    \n",
    "    OUTPUT:\n",
    "    recs - (list) list of ids with relevant recommendations\n",
    "    rec_names - (list) list of article names\n",
    "    probs - (list) list with float values of the matching with the given article\n",
    "    '''\n",
    "    # safty check\n",
    "    if id_type not in ['article', 'user']:\n",
    "        raise ValueError('Unkown ID type: {}'.format(id_type))\n",
    "        \n",
    "    # create vars\n",
    "    recs = []\n",
    "    probs = []\n",
    "    rel_articles = []\n",
    "    \n",
    "    # retrieve relevant articles\n",
    "    if _id is not None:\n",
    "        # check type of the id\n",
    "        if id_type == 'user':\n",
    "            arts = rec['user_item'].loc[_id]\n",
    "            rel_articles = list(arts[arts > 0].index)\n",
    "        elif id_type == 'article':\n",
    "            rel_articles = [float(_id)]\n",
    "        \n",
    "        # TODO: provide error handling here\n",
    "        arts_embs = rec['arts_emb'].loc[rel_articles]\n",
    "        if search_per_article == True:\n",
    "            # iterate through all articles\n",
    "            for art_emb in arts_embs:\n",
    "                # retrieve all relevant similar articles\n",
    "                docs, pb = _query_embedding(rec, art_emb, threshold)\n",
    "                recs += list(docs)\n",
    "                probs += list(pb)\n",
    "        else:\n",
    "            # combine all text items and generate\n",
    "            art_emb = arts_embs.mean(axis=1)\n",
    "            docs, pb = _query_embedding(rec, art_emb, threshold)\n",
    "            recs = list(docs)\n",
    "            probs = list(pb)\n",
    "    else:\n",
    "        # retrieve relevant documents instead (take the top 100)\n",
    "        top_arts = rec['top_arts'].iloc[:top_n]\n",
    "        top_arts.iloc[:, 0] = top_arts.iloc[:, 0].values / top_arts.iloc[:, 0].max()\n",
    "        recs = list(top_arts.index)\n",
    "        probs = list(top_arts.iloc[:, 0].values)\n",
    "        \n",
    "    \n",
    "    # check if there is query\n",
    "    df_query = None\n",
    "    if query is not None:\n",
    "        query_emb = rec['emb'].transform([query])[0]\n",
    "        # find relevant docs\n",
    "        docs, query_probs = _query_embedding(rec, query_emb, threshold)\n",
    "        # combine docs\n",
    "        df_query = pd.DataFrame({'article_id': list(docs), 'query_similarity': list(query_probs)})\n",
    "        df_query = df_query.groupby('article_id').max()\n",
    "        \n",
    "    # filter duplicates\n",
    "    df_recs = pd.DataFrame({'article_id': recs, 'similarity': probs})\n",
    "    df_recs = df_recs.groupby('article_id').max()\n",
    "    # combine with query\n",
    "    if df_query is not None:\n",
    "        # move items that have no query match closer to the mean (TODO: change handling of nan?)\n",
    "        df_comb = df_recs.join(df_query).fillna(df_recs['similarity'].mean())\n",
    "        df_comb['similarity'] = df_comb.apply(lambda x: (x['similarity'] + x['query_similarity']) / 2, axis=1)\n",
    "        df_recs = df_comb[['similarity']]\n",
    "        \n",
    "    # additional filter for similarity\n",
    "    df_recs = df_recs[df_recs['similarity'] > threshold]\n",
    "        \n",
    "    # combine and filter the outputs (against the given relevant articles)\n",
    "    recs = np.setdiff1d(np.array(df_recs.index), rel_articles)\n",
    "    df_recs = df_recs.loc[recs].sort_values(by='similarity', ascending=False)\n",
    "    recs  = np.array(df_recs.index)[:top_n]\n",
    "    probs = np.array(df_recs.values)[:top_n]\n",
    "    \n",
    "    # retrieve names and return\n",
    "    rec_names = get_article_names(recs)\n",
    "    return recs, rec_names, probs"
   ]
  },
  {
   "cell_type": "markdown",
   "metadata": {},
   "source": [
    "`2.` Now that you have put together your content-based recommendation system, use the cell below to write a summary explaining how your content based recommender works.  Do you see any possible improvements that could be made to your function?  Is there anything novel about your content based recommender?\n",
    "\n",
    "### This part is NOT REQUIRED to pass this project.  However, you may choose to take this on as an extra way to show off your skills."
   ]
  },
  {
   "cell_type": "markdown",
   "metadata": {},
   "source": [
    "***Answer:*** The system uses document embeddings (either through glove or tf-idf) to create a similarity between documents. This information is then used to identify relevant documents based on the items the user has already interacted with. Glove has the additional advantage that is provides normalized word-vectors, we can therefore use cosine similarity between documents to provide approximate similarity. Another approach we can use for new users is question answering. Where the user can input a question that is then matched against embeddings in our document space.\n",
    "\n",
    "Compared to the recommenders given above, a novel addition is the use of queries that allow the user to better specify an information need. A deployed recommender system might store these to better understand user interactions over time. Obviously there are a lot of improvements that can be made here, in terms of parameter tuning, integration of additional features or even better methods of text understanding and document matching (e.g. Neural Networks such as Transformers). It is worth noting, that for the sake of simplicity, only the doc descriptions are used for the embeddings (the other text elements might be used as well). Also, there are probabily lots of performance improvements to be made (especially in `_query_embedding` function) ;)\n",
    "\n",
    "This type of content recommender could also be integrated into the `ask_watson` library created for this project.\n",
    "\n",
    "**NOTE:** There appears to be a mismatch between article_id in the `df_content` and in `df`, making the mapping very difficult (as it does not allow to retrieve documents based on the embeddings...)"
   ]
  },
  {
   "cell_type": "markdown",
   "metadata": {},
   "source": [
    "`3.` Use your content-recommendation system to make recommendations for the below scenarios based on the comments.  Again no tests are provided here, because there isn't one right answer that could be used to find these content based recommendations.\n",
    "\n",
    "### This part is NOT REQUIRED to pass this project.  However, you may choose to take this on as an extra way to show off your skills."
   ]
  },
  {
   "cell_type": "code",
   "execution_count": 35,
   "metadata": {},
   "outputs": [],
   "source": [
    "# create the recommender items (only run once, due to performance)\n",
    "rec = create_rec()\n",
    "\n",
    "def print_res(rec_names, probs, recs):\n",
    "    for art, pb, aid in zip(rec_names, probs, recs):\n",
    "        print(' > {:7.2%} match: [{:6}] {}'.format(pb[0], aid, art))\n",
    "    print(\"\")"
   ]
  },
  {
   "cell_type": "code",
   "execution_count": 36,
   "metadata": {
    "collapsed": true
   },
   "outputs": [
    {
     "name": "stderr",
     "output_type": "stream",
     "text": [
      "c:\\programming\\envs\\datascience\\lib\\site-packages\\pandas\\core\\indexing.py:543: SettingWithCopyWarning: \n",
      "A value is trying to be set on a copy of a slice from a DataFrame.\n",
      "Try using .loc[row_indexer,col_indexer] = value instead\n",
      "\n",
      "See the caveats in the documentation: http://pandas.pydata.org/pandas-docs/stable/indexing.html#indexing-view-versus-copy\n",
      "  self.obj[item] = s\n",
      "c:\\programming\\envs\\datascience\\lib\\site-packages\\ipykernel_launcher.py:105: FutureWarning: \n",
      "Passing list-likes to .loc or [] with any missing label will raise\n",
      "KeyError in the future, you can use .reindex() as an alternative.\n",
      "\n",
      "See the documentation here:\n",
      "https://pandas.pydata.org/pandas-docs/stable/indexing.html#deprecate-loc-reindex-listlike\n",
      "c:\\programming\\envs\\datascience\\lib\\site-packages\\scipy\\spatial\\distance.py:720: RuntimeWarning: invalid value encountered in float_scalars\n",
      "  dist = 1.0 - uv / np.sqrt(uu * vv)\n",
      "c:\\programming\\envs\\datascience\\lib\\site-packages\\scipy\\spatial\\distance.py:719: RuntimeWarning: overflow encountered in square\n",
      "  vv = np.average(np.square(v), weights=w)\n",
      "c:\\programming\\envs\\datascience\\lib\\site-packages\\numpy\\core\\_methods.py:151: RuntimeWarning: overflow encountered in reduce\n",
      "  ret = umr_sum(arr, axis, dtype, out, keepdims)\n"
     ]
    },
    {
     "name": "stdout",
     "output_type": "stream",
     "text": [
      "We can recommend the following articles to you (Novel User):\n",
      " > 100.00% match: [1429.0] use deep learning for image classification\n",
      " >  98.93% match: [1330.0] insights from new york car accident reports\n",
      " >  71.61% match: [1431.0] visualize car data with brunel\n",
      " >  68.62% match: [1427.0] use xgboost, scikit-learn & ibm watson machine learning apis\n",
      " >  66.92% match: [1364.0] predicting churn with the spss random tree algorithm\n",
      " >  65.53% match: [1314.0] healthcare python streaming application demo\n",
      " >  61.05% match: [1293.0] finding optimal locations of new store using decision optimization\n",
      " >  60.30% match: [1170.0] apache spark lab, part 1: basic concepts\n",
      " >  54.64% match: [1162.0] analyze energy consumption in buildings\n",
      " >  51.55% match: [1304.0] gosales transactions for logistic regression model\n",
      " >  51.33% match: [1436.0] welcome to pixiedust\n",
      " >  50.48% match: [1271.0] customer demographics and sales\n",
      " >  49.63% match: [1398.0] total population by country\n",
      " >  49.09% match: [  43.0] deep learning with tensorflow course by big data university\n",
      " >  48.77% match: [1351.0] model bike sharing data with spss\n",
      " >  48.56% match: [1393.0] the nurse assignment problem\n",
      " >  47.17% match: [1185.0] classify tumors with machine learning\n",
      " >  46.21% match: [1160.0] analyze accident reports on amazon emr spark\n",
      " >  45.46% match: [1354.0] movie recommender system with spark machine learning\n",
      " >  44.61% match: [1368.0] putting a human face on machine learning\n",
      " >  44.08% match: [1305.0] gosales transactions for naive bayes model\n",
      " >  40.77% match: [1338.0] ml optimization using cognitive assistant\n",
      " >  40.45% match: [1336.0] learn basics about notebooks and apache spark\n",
      "\n"
     ]
    },
    {
     "name": "stderr",
     "output_type": "stream",
     "text": [
      "c:\\programming\\envs\\datascience\\lib\\site-packages\\scipy\\spatial\\distance.py:720: RuntimeWarning: overflow encountered in float_scalars\n",
      "  dist = 1.0 - uv / np.sqrt(uu * vv)\n"
     ]
    },
    {
     "name": "stdout",
     "output_type": "stream",
     "text": [
      "We can recommend the following articles to you (based on article):\n",
      " > 138.90% match: [  90.0] nan\n",
      " > 127.44% match: [ 166.0] nan\n",
      " > 125.96% match: [ 133.0] nan\n",
      " > 125.73% match: [ 135.0] nan\n",
      " > 125.20% match: [ 177.0] nan\n",
      " > 125.17% match: [  94.0] nan\n",
      " > 124.60% match: [  53.0] introducing streams designer\n",
      " > 123.99% match: [  14.0] got zip code data? prep it for analytics. – ibm watson data lab – medium\n",
      " > 123.75% match: [ 144.0] nan\n",
      " > 123.10% match: [ 200.0] nan\n",
      " > 123.06% match: [ 930.0] how to use version control (github) in rstudio within dsx?\n",
      " > 122.70% match: [  49.0] nan\n",
      " > 122.67% match: [ 134.0] this week in data science (november 01, 2016)\n",
      " > 122.48% match: [ 195.0] artificial intelligence, ethically speaking – inside machine learning – medium\n",
      " > 122.47% match: [   3.0] nan\n",
      " > 122.20% match: [  95.0] nan\n",
      " > 122.11% match: [ 118.0] nan\n",
      " > 122.11% match: [ 412.0] adoption of machine learning to software failure prediction\n",
      " > 122.07% match: [ 138.0] best packages for data manipulation in r\n",
      " > 120.95% match: [ 156.0] nan\n",
      " > 120.82% match: [  25.0] creating the data science experience\n",
      " > 120.29% match: [   8.0] data science bowl 2017\n",
      " > 120.26% match: [  40.0] ensemble learning to improve machine learning results\n",
      " > 120.24% match: [  17.0] nan\n",
      " > 120.20% match: [  27.0] nan\n",
      " > 120.20% match: [  22.0] nan\n",
      " > 120.18% match: [  11.0] nan\n",
      " > 119.97% match: [   7.0] nan\n",
      " > 119.83% match: [ 123.0] nan\n",
      " > 119.82% match: [ 256.0] xml2 1.0.0\n",
      " > 119.69% match: [  12.0] timeseries data analysis of iot events by using jupyter notebook\n",
      " > 119.68% match: [   9.0] 3992    using apache spark to predict attack vectors a...\n",
      "Name: title, dtype: object\n",
      " > 119.65% match: [  97.0] nan\n",
      " > 119.57% match: [  46.0] nan\n",
      " > 119.46% match: [ 132.0] collecting data science cheat sheets\n",
      " > 119.43% match: [  24.0] nan\n",
      " > 119.43% match: [ 332.0] nan\n",
      " > 119.32% match: [   1.0] nan\n",
      " > 119.30% match: [ 305.0] nan\n",
      " > 119.24% match: [  34.0] top 10 machine learning use cases: part 1\n",
      " > 119.20% match: [  30.0] how open api economy accelerates the growth of big data and analytics\n",
      " > 119.19% match: [ 109.0] tensorflow quick tips\n",
      " > 119.03% match: [ 207.0] nan\n",
      " > 119.00% match: [  58.0] advancements in the spark community\n",
      " > 118.86% match: [  44.0] nan\n",
      " > 118.76% match: [  15.0] apache spark™ 2.0: extend structured streaming for spark ml\n",
      " > 118.67% match: [  41.0] nan\n",
      " > 118.61% match: [  89.0] top 20 r machine learning and data science packages\n",
      " > 118.54% match: [  32.0] a kaggler's guide to model stacking in practice\n",
      " > 118.53% match: [  98.0] how to map usa rivers using ggplot2\n",
      " > 118.39% match: [ 107.0] when machine learning matters · erik bernhardsson\n",
      " > 118.31% match: [   2.0] this week in data science (april 18, 2017)\n",
      " > 118.25% match: [  51.0] modern machine learning algorithms\n",
      " > 118.21% match: [  57.0] transfer learning for flight delay prediction via variational autoencoders\n",
      " > 118.16% match: [  67.0] nan\n",
      " > 118.13% match: [  99.0] nan\n",
      " > 118.12% match: [ 112.0] building custom machine learning algorithms with apache systemml\n",
      " > 118.09% match: [ 125.0] statistics for hackers\n",
      " > 118.07% match: [ 104.0] nan\n",
      " > 117.99% match: [  48.0] data science experience documentation\n",
      " > 117.87% match: [  39.0] pulling and displaying etf data\n",
      " > 117.80% match: [  20.0] working interactively with rstudio and notebooks in dsx\n",
      " > 117.76% match: [ 154.0] nan\n",
      " > 117.75% match: [  33.0] using brunel in ipython/jupyter notebooks\n",
      " > 117.68% match: [ 671.0] nan\n",
      " > 117.56% match: [  84.0] nan\n",
      " > 117.50% match: [ 128.0] nan\n",
      " > 117.43% match: [  77.0] apache spark @scale: a 60 tb+ production use case\n",
      " > 117.36% match: [  69.0] nan\n",
      " > 117.31% match: [  85.0] nan\n",
      " > 117.30% match: [  45.0] nan\n",
      " > 117.29% match: [ 190.0] nan\n",
      " > 117.28% match: [  72.0] nan\n",
      " > 117.20% match: [  83.0] nan\n",
      " > 117.20% match: [ 147.0] nan\n",
      " > 117.15% match: [ 142.0] neural networks for beginners: popular types and applications\n",
      " > 117.11% match: [ 233.0] bayesian nonparametric models – stats and bots\n",
      " > 117.08% match: [ 110.0] pixiedust: magic for your python notebook\n",
      " > 117.07% match: [  70.0] nan\n",
      " > 117.06% match: [  52.0] nan\n",
      " > 117.06% match: [  96.0] improving quality of life with spark-empowered machine learning\n",
      " > 117.05% match: [ 129.0] nan\n",
      " > 117.01% match: [ 169.0] nan\n",
      " > 117.01% match: [  86.0] nan\n",
      " > 116.99% match: [ 199.0] nan\n",
      " > 116.96% match: [  64.0] predicting gentrification using longitudinal census data\n",
      " > 116.87% match: [ 101.0] how to choose a project to practice data science\n",
      " > 116.87% match: [ 238.0] nan\n",
      " > 116.87% match: [ 365.0] nan\n",
      " > 116.86% match: [ 184.0] improving the roi of big data and analytics through leveraging new sources of data\n",
      " > 116.86% match: [ 241.0] i am not a data scientist – ibm watson data lab\n",
      " > 116.86% match: [ 393.0] nan\n",
      " > 116.86% match: [ 299.0] brunel in jupyter\n",
      " > 116.86% match: [ 215.0] data wrangling with dplyr and tidyr cheat sheet\n",
      " > 116.86% match: [ 100.0] use data assets in a project using ibm data catalog\n",
      " > 116.85% match: [ 212.0] nan\n",
      " > 116.85% match: [  62.0] data visualization: the importance of excluding unnecessary details\n",
      " > 116.85% match: [ 198.0] nan\n",
      " > 116.85% match: [ 203.0] nan\n",
      " > 116.85% match: [  66.0] nan\n",
      "\n"
     ]
    },
    {
     "name": "stderr",
     "output_type": "stream",
     "text": [
      "c:\\programming\\envs\\datascience\\lib\\site-packages\\pandas\\core\\indexing.py:1017: FutureWarning: \n",
      "Passing list-likes to .loc or [] with any missing label will raise\n",
      "KeyError in the future, you can use .reindex() as an alternative.\n",
      "\n",
      "See the documentation here:\n",
      "https://pandas.pydata.org/pandas-docs/stable/indexing.html#deprecate-loc-reindex-listlike\n",
      "  return getattr(section, self.name)[new_key]\n"
     ]
    }
   ],
   "source": [
    "# make recommendations for a brand new user\n",
    "#query = \"Visualize Car Data\" # additional query information\n",
    "query = None\n",
    "recs, rec_names, probs = make_content_recs(rec, None, query=query)\n",
    "print(\"We can recommend the following articles to you (Novel User):\")\n",
    "print_res(rec_names, probs, recs)\n",
    "\n",
    "# make a recommendations for a user who only has interacted with article id '1427.0'\n",
    "recs, rec_names, probs = make_content_recs(rec, 10, id_type='user')\n",
    "print(\"We can recommend the following articles to you (based on article):\")\n",
    "print_res(rec_names, probs, recs)"
   ]
  },
  {
   "cell_type": "code",
   "execution_count": null,
   "metadata": {},
   "outputs": [],
   "source": []
  },
  {
   "cell_type": "markdown",
   "metadata": {},
   "source": [
    "### <a class=\"anchor\" id=\"Matrix-Fact\">Part V: Matrix Factorization</a>\n",
    "\n",
    "In this part of the notebook, you will build use matrix factorization to make article recommendations to the users on the IBM Watson Studio platform.\n",
    "\n",
    "`1.` You should have already created a **user_item** matrix above in **question 1** of **Part III** above.  This first question here will just require that you run the cells to get things set up for the rest of **Part V** of the notebook. "
   ]
  },
  {
   "cell_type": "code",
   "execution_count": 37,
   "metadata": {
    "collapsed": true
   },
   "outputs": [],
   "source": [
    "# Load the matrix here\n",
    "user_item_matrix = pd.read_pickle('../data/user_item_matrix.p')"
   ]
  },
  {
   "cell_type": "code",
   "execution_count": 38,
   "metadata": {
    "collapsed": true
   },
   "outputs": [
    {
     "data": {
      "text/html": [
       "<div>\n",
       "<style scoped>\n",
       "    .dataframe tbody tr th:only-of-type {\n",
       "        vertical-align: middle;\n",
       "    }\n",
       "\n",
       "    .dataframe tbody tr th {\n",
       "        vertical-align: top;\n",
       "    }\n",
       "\n",
       "    .dataframe thead th {\n",
       "        text-align: right;\n",
       "    }\n",
       "</style>\n",
       "<table border=\"1\" class=\"dataframe\">\n",
       "  <thead>\n",
       "    <tr style=\"text-align: right;\">\n",
       "      <th>article_id</th>\n",
       "      <th>0.0</th>\n",
       "      <th>100.0</th>\n",
       "      <th>1000.0</th>\n",
       "      <th>1004.0</th>\n",
       "      <th>1006.0</th>\n",
       "      <th>1008.0</th>\n",
       "      <th>101.0</th>\n",
       "      <th>1014.0</th>\n",
       "      <th>1015.0</th>\n",
       "      <th>1016.0</th>\n",
       "      <th>...</th>\n",
       "      <th>977.0</th>\n",
       "      <th>98.0</th>\n",
       "      <th>981.0</th>\n",
       "      <th>984.0</th>\n",
       "      <th>985.0</th>\n",
       "      <th>986.0</th>\n",
       "      <th>990.0</th>\n",
       "      <th>993.0</th>\n",
       "      <th>996.0</th>\n",
       "      <th>997.0</th>\n",
       "    </tr>\n",
       "    <tr>\n",
       "      <th>user_id</th>\n",
       "      <th></th>\n",
       "      <th></th>\n",
       "      <th></th>\n",
       "      <th></th>\n",
       "      <th></th>\n",
       "      <th></th>\n",
       "      <th></th>\n",
       "      <th></th>\n",
       "      <th></th>\n",
       "      <th></th>\n",
       "      <th></th>\n",
       "      <th></th>\n",
       "      <th></th>\n",
       "      <th></th>\n",
       "      <th></th>\n",
       "      <th></th>\n",
       "      <th></th>\n",
       "      <th></th>\n",
       "      <th></th>\n",
       "      <th></th>\n",
       "      <th></th>\n",
       "    </tr>\n",
       "  </thead>\n",
       "  <tbody>\n",
       "    <tr>\n",
       "      <th>1</th>\n",
       "      <td>0.0</td>\n",
       "      <td>0.0</td>\n",
       "      <td>0.0</td>\n",
       "      <td>0.0</td>\n",
       "      <td>0.0</td>\n",
       "      <td>0.0</td>\n",
       "      <td>0.0</td>\n",
       "      <td>0.0</td>\n",
       "      <td>0.0</td>\n",
       "      <td>0.0</td>\n",
       "      <td>...</td>\n",
       "      <td>0.0</td>\n",
       "      <td>0.0</td>\n",
       "      <td>1.0</td>\n",
       "      <td>0.0</td>\n",
       "      <td>0.0</td>\n",
       "      <td>0.0</td>\n",
       "      <td>0.0</td>\n",
       "      <td>0.0</td>\n",
       "      <td>0.0</td>\n",
       "      <td>0.0</td>\n",
       "    </tr>\n",
       "    <tr>\n",
       "      <th>2</th>\n",
       "      <td>0.0</td>\n",
       "      <td>0.0</td>\n",
       "      <td>0.0</td>\n",
       "      <td>0.0</td>\n",
       "      <td>0.0</td>\n",
       "      <td>0.0</td>\n",
       "      <td>0.0</td>\n",
       "      <td>0.0</td>\n",
       "      <td>0.0</td>\n",
       "      <td>0.0</td>\n",
       "      <td>...</td>\n",
       "      <td>0.0</td>\n",
       "      <td>0.0</td>\n",
       "      <td>0.0</td>\n",
       "      <td>0.0</td>\n",
       "      <td>0.0</td>\n",
       "      <td>0.0</td>\n",
       "      <td>0.0</td>\n",
       "      <td>0.0</td>\n",
       "      <td>0.0</td>\n",
       "      <td>0.0</td>\n",
       "    </tr>\n",
       "    <tr>\n",
       "      <th>3</th>\n",
       "      <td>0.0</td>\n",
       "      <td>0.0</td>\n",
       "      <td>0.0</td>\n",
       "      <td>0.0</td>\n",
       "      <td>0.0</td>\n",
       "      <td>0.0</td>\n",
       "      <td>0.0</td>\n",
       "      <td>0.0</td>\n",
       "      <td>0.0</td>\n",
       "      <td>0.0</td>\n",
       "      <td>...</td>\n",
       "      <td>1.0</td>\n",
       "      <td>0.0</td>\n",
       "      <td>0.0</td>\n",
       "      <td>0.0</td>\n",
       "      <td>0.0</td>\n",
       "      <td>0.0</td>\n",
       "      <td>0.0</td>\n",
       "      <td>0.0</td>\n",
       "      <td>0.0</td>\n",
       "      <td>0.0</td>\n",
       "    </tr>\n",
       "    <tr>\n",
       "      <th>4</th>\n",
       "      <td>0.0</td>\n",
       "      <td>0.0</td>\n",
       "      <td>0.0</td>\n",
       "      <td>0.0</td>\n",
       "      <td>0.0</td>\n",
       "      <td>0.0</td>\n",
       "      <td>0.0</td>\n",
       "      <td>0.0</td>\n",
       "      <td>0.0</td>\n",
       "      <td>0.0</td>\n",
       "      <td>...</td>\n",
       "      <td>0.0</td>\n",
       "      <td>0.0</td>\n",
       "      <td>0.0</td>\n",
       "      <td>0.0</td>\n",
       "      <td>0.0</td>\n",
       "      <td>0.0</td>\n",
       "      <td>0.0</td>\n",
       "      <td>0.0</td>\n",
       "      <td>0.0</td>\n",
       "      <td>0.0</td>\n",
       "    </tr>\n",
       "    <tr>\n",
       "      <th>5</th>\n",
       "      <td>0.0</td>\n",
       "      <td>0.0</td>\n",
       "      <td>0.0</td>\n",
       "      <td>0.0</td>\n",
       "      <td>0.0</td>\n",
       "      <td>0.0</td>\n",
       "      <td>0.0</td>\n",
       "      <td>0.0</td>\n",
       "      <td>0.0</td>\n",
       "      <td>0.0</td>\n",
       "      <td>...</td>\n",
       "      <td>0.0</td>\n",
       "      <td>0.0</td>\n",
       "      <td>0.0</td>\n",
       "      <td>0.0</td>\n",
       "      <td>0.0</td>\n",
       "      <td>0.0</td>\n",
       "      <td>0.0</td>\n",
       "      <td>0.0</td>\n",
       "      <td>0.0</td>\n",
       "      <td>0.0</td>\n",
       "    </tr>\n",
       "  </tbody>\n",
       "</table>\n",
       "<p>5 rows × 714 columns</p>\n",
       "</div>"
      ],
      "text/plain": [
       "article_id  0.0  100.0  1000.0  1004.0  1006.0  1008.0  101.0  1014.0  1015.0  \\\n",
       "user_id                                                                         \n",
       "1           0.0    0.0     0.0     0.0     0.0     0.0    0.0     0.0     0.0   \n",
       "2           0.0    0.0     0.0     0.0     0.0     0.0    0.0     0.0     0.0   \n",
       "3           0.0    0.0     0.0     0.0     0.0     0.0    0.0     0.0     0.0   \n",
       "4           0.0    0.0     0.0     0.0     0.0     0.0    0.0     0.0     0.0   \n",
       "5           0.0    0.0     0.0     0.0     0.0     0.0    0.0     0.0     0.0   \n",
       "\n",
       "article_id  1016.0  ...  977.0  98.0  981.0  984.0  985.0  986.0  990.0  \\\n",
       "user_id             ...                                                   \n",
       "1              0.0  ...    0.0   0.0    1.0    0.0    0.0    0.0    0.0   \n",
       "2              0.0  ...    0.0   0.0    0.0    0.0    0.0    0.0    0.0   \n",
       "3              0.0  ...    1.0   0.0    0.0    0.0    0.0    0.0    0.0   \n",
       "4              0.0  ...    0.0   0.0    0.0    0.0    0.0    0.0    0.0   \n",
       "5              0.0  ...    0.0   0.0    0.0    0.0    0.0    0.0    0.0   \n",
       "\n",
       "article_id  993.0  996.0  997.0  \n",
       "user_id                          \n",
       "1             0.0    0.0    0.0  \n",
       "2             0.0    0.0    0.0  \n",
       "3             0.0    0.0    0.0  \n",
       "4             0.0    0.0    0.0  \n",
       "5             0.0    0.0    0.0  \n",
       "\n",
       "[5 rows x 714 columns]"
      ]
     },
     "execution_count": 38,
     "metadata": {},
     "output_type": "execute_result"
    }
   ],
   "source": [
    "# quick look at the matrix\n",
    "user_item_matrix.head()"
   ]
  },
  {
   "cell_type": "markdown",
   "metadata": {},
   "source": [
    "`2.` In this situation, you can use Singular Value Decomposition from [numpy](https://docs.scipy.org/doc/numpy-1.14.0/reference/generated/numpy.linalg.svd.html) on the user-item matrix.  Use the cell to perform SVD, and explain why this is different than in the lesson."
   ]
  },
  {
   "cell_type": "code",
   "execution_count": 39,
   "metadata": {
    "collapsed": true
   },
   "outputs": [
    {
     "data": {
      "text/plain": [
       "array([55.34570373, 23.2486418 , 21.76002282, 20.65833406, 19.97088674,\n",
       "       19.55694619, 19.16323422, 18.71975076, 18.34386147, 18.0639261 ])"
      ]
     },
     "execution_count": 39,
     "metadata": {},
     "output_type": "execute_result"
    }
   ],
   "source": [
    "# Perform SVD on the User-Item Matrix Here\n",
    "# Note: use full_matricies as we use different latent feature sizes in the next cell\n",
    "u, s, vt = np.linalg.svd(user_item_matrix, full_matrices=True)\n",
    "s[:10]"
   ]
  },
  {
   "cell_type": "markdown",
   "metadata": {},
   "source": [
    "***Answer:*** In the lesson we computed FunkSVD on a sparse matrix. Here, we use the number of interactions as values, leading to zero values. This allows us to use the regular SVD on the matrix. This has the additional benefit that the `s` diagonal matrix (just returned as single values here), are computed and show us the variaty across the values."
   ]
  },
  {
   "cell_type": "markdown",
   "metadata": {},
   "source": [
    "`3.` Now for the tricky part, how do we choose the number of latent features to use?  Running the below cell, you can see that as the number of latent features increases, we obtain a lower error rate on making predictions for the 1 and 0 values in the user-item matrix.  Run the cell below to get an idea of how the accuracy improves as we increase the number of latent features."
   ]
  },
  {
   "cell_type": "code",
   "execution_count": 40,
   "metadata": {
    "collapsed": true
   },
   "outputs": [
    {
     "data": {
      "image/png": "[encoded data removed]",
      "text/plain": [
       "<Figure size 432x288 with 1 Axes>"
      ]
     },
     "metadata": {
      "needs_background": "light"
     },
     "output_type": "display_data"
    }
   ],
   "source": [
    "num_latent_feats = np.arange(10,700+10,20)\n",
    "sum_errs = []\n",
    "\n",
    "for k in num_latent_feats:\n",
    "    # restructure with k latent features\n",
    "    s_new, u_new, vt_new = np.diag(s[:k]), u[:, :k], vt[:k, :]\n",
    "    \n",
    "    # take dot product\n",
    "    user_item_est = np.around(np.dot(np.dot(u_new, s_new), vt_new))\n",
    "    \n",
    "    # compute error for each prediction to actual value\n",
    "    diffs = np.subtract(user_item_matrix, user_item_est)\n",
    "    \n",
    "    # total errors and keep track of them\n",
    "    err = np.sum(np.sum(np.abs(diffs)))\n",
    "    sum_errs.append(err)\n",
    "    \n",
    "\n",
    "# Note: fixed bug in calculate here (used entire number of cells instead length of index)\n",
    "plt.plot(num_latent_feats, 1 - np.array(sum_errs)/(df.shape[0] * df.shape[1]));\n",
    "plt.xlabel('Number of Latent Features');\n",
    "plt.ylabel('Accuracy');\n",
    "plt.title('Accuracy vs. Number of Latent Features');"
   ]
  },
  {
   "cell_type": "markdown",
   "metadata": {},
   "source": [
    "`4.` From the above, we can't really be sure how many features to use, because simply having a better way to predict the 1's and 0's of the matrix doesn't exactly give us an indication of if we are able to make good recommendations.  Instead, we might split our dataset into a training and test set of data, as shown in the cell below.  \n",
    "\n",
    "Use the code from question 3 to understand the impact on accuracy of the training and test sets of data with different numbers of latent features. Using the split below: \n",
    "\n",
    "* How many users can we make predictions for in the test set?  \n",
    "* How many users are we not able to make predictions for because of the cold start problem?\n",
    "* How many articles can we make predictions for in the test set?  \n",
    "* How many articles are we not able to make predictions for because of the cold start problem?"
   ]
  },
  {
   "cell_type": "code",
   "execution_count": 41,
   "metadata": {
    "collapsed": true
   },
   "outputs": [],
   "source": [
    "df_train = df.head(40000)\n",
    "df_test = df.tail(5993)\n",
    "\n",
    "def create_test_and_train_user_item(df_train, df_test):\n",
    "    '''\n",
    "    INPUT:\n",
    "    df_train - training dataframe\n",
    "    df_test - test dataframe\n",
    "    \n",
    "    OUTPUT:\n",
    "    user_item_train - a user-item matrix of the training dataframe \n",
    "                      (unique users for each row and unique articles for each column)\n",
    "    user_item_test - a user-item matrix of the testing dataframe \n",
    "                    (unique users for each row and unique articles for each column)\n",
    "    test_idx - all of the test user ids\n",
    "    test_arts - all of the test article ids\n",
    "    \n",
    "    '''\n",
    "    # Your code here\n",
    "    tf = ask.transformer.UserItemTransformer(user_col='user_id', item_col='article_id', value_col='title', binarize=True)\n",
    "    user_item_train = tf.transform(df_train)\n",
    "    user_item_test = tf.transform(df_test)\n",
    "    test_idx = np.array(user_item_test.index)\n",
    "    test_arts = np.array(user_item_test.columns)\n",
    "    \n",
    "    return user_item_train, user_item_test, test_idx, test_arts\n",
    "\n",
    "user_item_train, user_item_test, test_idx, test_arts = create_test_and_train_user_item(df_train, df_test)"
   ]
  },
  {
   "cell_type": "code",
   "execution_count": 42,
   "metadata": {},
   "outputs": [
    {
     "name": "stdout",
     "output_type": "stream",
     "text": [
      "Relevant Test User: 20 / Irrelevant Test User: 662\n",
      "Relevant Test Articles: 574 / Irrelevant Test Articles: 0\n"
     ]
    }
   ],
   "source": [
    "irel_test_user = np.setdiff1d(test_idx, np.array(user_item_train.index))\n",
    "rel_test_user = np.setdiff1d(test_idx, irel_test_user)\n",
    "print(\"Relevant Test User: {} / Irrelevant Test User: {}\".format(len(rel_test_user), len(irel_test_user)))\n",
    "irel_test_arts = np.setdiff1d(test_arts, np.array(user_item_train.columns))\n",
    "rel_test_arts = np.setdiff1d(test_arts, irel_test_arts)\n",
    "print(\"Relevant Test Articles: {} / Irrelevant Test Articles: {}\".format(len(rel_test_arts), len(irel_test_arts)))"
   ]
  },
  {
   "cell_type": "code",
   "execution_count": 43,
   "metadata": {
    "collapsed": true
   },
   "outputs": [
    {
     "name": "stdout",
     "output_type": "stream",
     "text": [
      "Awesome job!  That's right!  All of the test movies are in the training data, but there are only 20 test users that were also in the training set.  All of the other users that are in the test set we have no data on.  Therefore, we cannot make predictions for these users using SVD.\n"
     ]
    }
   ],
   "source": [
    "# Replace the values in the dictionary below\n",
    "a = 662 \n",
    "b = 574 \n",
    "c = 20 \n",
    "d = 0 \n",
    "\n",
    "# NOTE: there was an error in the project_test (last two questions referencing movies instead of articles)\n",
    "\n",
    "sol_4_dict = {\n",
    "    'How many users can we make predictions for in the test set?': c,\n",
    "    'How many users in the test set are we not able to make predictions for because of the cold start problem?': a, \n",
    "    'How many articles can we make predictions for in the test set?': b,\n",
    "    'How many articles in the test set are we not able to make predictions for because of the cold start problem?': d\n",
    "}\n",
    "\n",
    "t.sol_4_test(sol_4_dict)"
   ]
  },
  {
   "cell_type": "markdown",
   "metadata": {},
   "source": [
    "`5.` Now use the **user_item_train** dataset from above to find U, S, and V transpose using SVD. Then find the subset of rows in the **user_item_test** dataset that you can predict using this matrix decomposition with different numbers of latent features to see how many features makes sense to keep based on the accuracy on the test data. This will require combining what was done in questions `2` - `4`.\n",
    "\n",
    "Use the cells below to explore how well SVD works towards making predictions for recommendations on the test data.  "
   ]
  },
  {
   "cell_type": "code",
   "execution_count": 44,
   "metadata": {
    "collapsed": true
   },
   "outputs": [],
   "source": [
    "# fit SVD on the user_item_train matrix\n",
    "u_train, s_train, vt_train = np.linalg.svd(user_item_train, full_matrices=True)"
   ]
  },
  {
   "cell_type": "code",
   "execution_count": 45,
   "metadata": {},
   "outputs": [],
   "source": [
    "def test_latent(latent, rel_user_item_test, user_item_train, s_train, u_train, vt_train):\n",
    "    '''Functions to test the SVD based on the given number of latent features against a test set.\n",
    "    \n",
    "    Returns:\n",
    "        train_err (float): Number of total misses in the train set\n",
    "        test_err (float): Number of total misses in the test set (based on train SVD)\n",
    "    '''\n",
    "    # restructure with latent features\n",
    "    s_new, u_new, vt_new = np.diag(s_train[:latent]), u_train[:, :latent], vt_train[:latent, :]\n",
    "    \n",
    "    # take dot product (reconstruct user-item)\n",
    "    user_item_est = np.around(np.dot(np.dot(u_new, s_new), vt_new))\n",
    "    \n",
    "    # select the relevant items\n",
    "    user_item_est = pd.DataFrame(user_item_est)\n",
    "    user_item_est.columns = user_item_train.columns\n",
    "    user_item_est.index = user_item_train.index\n",
    "    # select only the test relevant portion\n",
    "    rel_user_item_est = user_item_est.loc[np.array(rel_user_item_test.index), np.array(rel_user_item_test.columns)]\n",
    "\n",
    "    \n",
    "    # total errors and keep track of them\n",
    "    test_err = np.sum(np.sum(np.abs( np.subtract(rel_user_item_test, rel_user_item_est) )))\n",
    "    train_err  = np.sum(np.sum(np.abs( np.subtract(user_item_train, user_item_est) )))\n",
    "    \n",
    "    return train_err, test_err"
   ]
  },
  {
   "cell_type": "code",
   "execution_count": 46,
   "metadata": {
    "collapsed": true
   },
   "outputs": [
    {
     "data": {
      "image/png": "[encoded data removed]",
      "text/plain": [
       "<Figure size 432x288 with 1 Axes>"
      ]
     },
     "metadata": {
      "needs_background": "light"
     },
     "output_type": "display_data"
    }
   ],
   "source": [
    "# Use these cells to see how well you can use the training \n",
    "# decomposition to predict on test data\n",
    "\n",
    "# setup vars\n",
    "num_latent_feats = np.arange(10,700+10,20)\n",
    "sum_errs = []\n",
    "sum_errs_train = []\n",
    "# retrieve the relevant test portion\n",
    "rel_user_item_test = user_item_test.loc[rel_test_user, rel_test_arts]\n",
    "\n",
    "# iterate over the number of latent features\n",
    "for k in num_latent_feats:\n",
    "    # calculate the errors\n",
    "    train_err, test_err = test_latent(k, rel_user_item_test, user_item_train, s_train, u_train, vt_train)\n",
    "\n",
    "    # append to lists\n",
    "    sum_errs.append(test_err)\n",
    "    sum_errs_train.append(train_err)\n",
    "    \n",
    "# plot resulting graphs\n",
    "fig, ax = plt.subplots()\n",
    "ax.plot(num_latent_feats, 1 - np.array(sum_errs)/(rel_user_item_test.shape[0] * rel_user_item_test.shape[1]), label='test');\n",
    "ax.plot(num_latent_feats, 1 - np.array(sum_errs_train)/(user_item_train.shape[0] * user_item_train.shape[1]), label='train');\n",
    "\n",
    "# format plot\n",
    "plt.xlabel('Number of Latent Features');\n",
    "plt.ylabel('Accuracy');\n",
    "plt.title('Accuracy vs. Number of Latent Features');\n",
    "plt.legend();"
   ]
  },
  {
   "cell_type": "code",
   "execution_count": 47,
   "metadata": {},
   "outputs": [
    {
     "name": "stdout",
     "output_type": "stream",
     "text": [
      "Mean interactions per User in train set: 8.914642\n",
      "Mean interactions per User in relevant train set: 1.052632\n"
     ]
    },
    {
     "data": {
      "image/png": "[encoded data removed]",
      "text/plain": [
       "<Figure size 1440x432 with 1 Axes>"
      ]
     },
     "metadata": {
      "needs_background": "light"
     },
     "output_type": "display_data"
    },
    {
     "data": {
      "image/png": "[encoded data removed]",
      "text/plain": [
       "<Figure size 720x216 with 1 Axes>"
      ]
     },
     "metadata": {
      "needs_background": "light"
     },
     "output_type": "display_data"
    }
   ],
   "source": [
    "its1 = df_train.groupby('user_id').count()\n",
    "print(\"Mean interactions per User in train set: {:.6f}\".format(its1['article_id'].mean()))\n",
    "\n",
    "its2 = df_train.loc[rel_test_user].groupby('user_id').count()\n",
    "print(\"Mean interactions per User in relevant train set: {:.6f}\".format(its2['article_id'].mean()))\n",
    "its1.groupby('article_id').count().plot.bar(figsize=(20, 6));\n",
    "its2.groupby('article_id').count().plot.bar(figsize=(10, 3));"
   ]
  },
  {
   "cell_type": "markdown",
   "metadata": {},
   "source": [
    "`6.` Use the cell below to comment on the results you found in the previous question. Given the circumstances of your results, discuss what you might do to determine if the recommendations you make with any of the above recommendation systems are an improvement to how users currently find articles? "
   ]
  },
  {
   "cell_type": "markdown",
   "metadata": {},
   "source": [
    "***Answer:*** \n",
    "\n",
    "**Current Test:**\n",
    "\n",
    "Based on the split of the data, we can only make predictions for 20 users in the test set (albeit for 574 articles). When we look at the data distribution, we notice two things: The distribution of the train set appears to match the distribution of the entire dataset (with a mean of 8.9 interactions with different articles per user). However, the data in the test we are making predictions on, has a different distribution (only 1.05 interactions per user). This indicates that the conclusions we make from this test set might not generalize well.\n",
    "\n",
    "Regarding the test scores, we can see, that while the accuracy on the train set raises continuously with the number of features, the test score declines. One possible explanation for this behaviour is overfitting. It is likely that the train data contains some kind of noise that is captured by a higher number of latent features, while this noise is not present (or perturbed) in the test data, leading to a decline in results. That being said, I don't recommend drawing conclusions about the number of features from the given experiment, as the number of users in the relevant test set is low and out of sample. It can well be that higher latent features (e.g. 200 or 300) still capture meaningful information, which is just not present in the given test data.\n",
    "\n",
    "**Recommendation Strength:**\n",
    "\n",
    "The easiest way to identify the strength of recommendations would be to capture relevance feedback from the users (either through direct questionairs (e.g. was this item relevant to you) or through indirect measures (e.g. number of interactions in recommended articles)). To compare different recommenders against each other, one might resort to A/B Testing (splitting the users and using different recommender systems for each, again using a measure how well the articles statisfy the information need of the user as a goal).\n",
    "\n",
    "The recommender systems seen here are mostly focused on relevance to the user. Given additional metadata (e.g. data of posting of articles), system might also be able to introduce novelty (which might be important for the use-case of data-science knowledge). Another possible improvement would be to leverage domain specific knowledge (e.g. relation between fields in the area of Deep Learning) and classification of articles thereby to introduce serendipty into the recommenders."
   ]
  },
  {
   "cell_type": "code",
   "execution_count": 44,
   "metadata": {
    "collapsed": true
   },
   "outputs": [
    {
     "data": {
      "text/plain": [
       "1"
      ]
     },
     "execution_count": 44,
     "metadata": {},
     "output_type": "execute_result"
    }
   ],
   "source": [
    "from subprocess import call\n",
    "call(['python', '-m', 'nbconvert', 'Recommendations_with_IBM.ipynb'])"
   ]
  },
  {
   "cell_type": "code",
   "execution_count": null,
   "metadata": {},
   "outputs": [],
   "source": []
  }
 ],
 "metadata": {
  "kernelspec": {
   "display_name": "datascience",
   "language": "python",
   "name": "datascience"
  },
  "language_info": {
   "codemirror_mode": {
    "name": "ipython",
    "version": 3
   },
   "file_extension": ".py",
   "mimetype": "text/x-python",
   "name": "python",
   "nbconvert_exporter": "python",
   "pygments_lexer": "ipython3",
   "version": "3.5.2"
  }
 },
 "nbformat": 4,
 "nbformat_minor": 2
}
